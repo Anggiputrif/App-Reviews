{
  "cells": [
    {
      "cell_type": "markdown",
      "metadata": {
        "id": "Q7Ci3_YYWRxm"
      },
      "source": [
        "**SCRAPING DATA**"
      ]
    },
    {
      "cell_type": "code",
      "execution_count": null,
      "metadata": {
        "colab": {
          "base_uri": "https://localhost:8080/"
        },
        "id": "XI4h9FjRPSpo",
        "outputId": "c52a5d18-07f3-4662-af92-e4f4a1a8e94a"
      },
      "outputs": [
        {
          "output_type": "stream",
          "name": "stdout",
          "text": [
            "Looking in indexes: https://pypi.org/simple, https://us-python.pkg.dev/colab-wheels/public/simple/\n",
            "Collecting google-play-scraper\n",
            "  Downloading google_play_scraper-1.2.4-py3-none-any.whl (28 kB)\n",
            "Installing collected packages: google-play-scraper\n",
            "Successfully installed google-play-scraper-1.2.4\n"
          ]
        }
      ],
      "source": [
        "pip install google-play-scraper"
      ]
    },
    {
      "cell_type": "code",
      "execution_count": null,
      "metadata": {
        "id": "ckiQoInpPam5"
      },
      "outputs": [],
      "source": [
        "from google_play_scraper import Sort, reviews_all\n",
        "import pandas as pd"
      ]
    },
    {
      "cell_type": "code",
      "execution_count": null,
      "metadata": {
        "id": "gLG6UwtDPhzy"
      },
      "outputs": [],
      "source": [
        "scrapreview= reviews_all(\n",
        "'com.bangbeli', #ID aplikasi\n",
        "lang='id', # defaults to 'en'\n",
        "country='id', # defaults to 'us'\n",
        "sort=Sort.NEWEST, # defaults to Sort.MOST_RELEVANT\n",
        ")"
      ]
    },
    {
      "cell_type": "code",
      "execution_count": null,
      "metadata": {
        "colab": {
          "base_uri": "https://localhost:8080/",
          "height": 641
        },
        "id": "q8CSDuiTRMXV",
        "outputId": "c8124372-4853-4150-8472-b475d49b34f7"
      },
      "outputs": [
        {
          "output_type": "execute_result",
          "data": {
            "text/plain": [
              "                                  reviewId            userName  \\\n",
              "0     22b96dca-1230-4221-9be4-1696cb69a5b8  Syahrul Al Kautsar   \n",
              "1     eba45779-b4da-41e8-8207-04a429d28636       Nur IlhamSyah   \n",
              "2     cc258e0b-f610-48c7-88f1-78a7e5ca7c02      Satria Bernada   \n",
              "3     9adbbe1b-ca96-4ffd-be04-bea051f709b7        lutfi grabag   \n",
              "4     4daba501-4874-4684-bf82-3f31fd84d5c5           Nur genie   \n",
              "...                                    ...                 ...   \n",
              "1195  c8bdabed-eb84-4999-acff-0420e503b404     Pengguna Google   \n",
              "1196  cc005a74-0523-44ca-aa6b-f63e0a47fda3     Pengguna Google   \n",
              "1197  c0cf1c15-b421-45da-99aa-2ffaea8a35b2     Pengguna Google   \n",
              "1198  48e02cd5-8997-4db6-8050-91c8530c1576     Pengguna Google   \n",
              "1199  10c0a81f-a5c3-4fe8-b187-a9727a6e7ee8     Pengguna Google   \n",
              "\n",
              "                                              userImage  \\\n",
              "0     https://play-lh.googleusercontent.com/a-/AD_cM...   \n",
              "1     https://play-lh.googleusercontent.com/a/AAcHTt...   \n",
              "2     https://play-lh.googleusercontent.com/a/AAcHTt...   \n",
              "3     https://play-lh.googleusercontent.com/a-/AD_cM...   \n",
              "4     https://play-lh.googleusercontent.com/a-/AD_cM...   \n",
              "...                                                 ...   \n",
              "1195  https://play-lh.googleusercontent.com/EGemoI2N...   \n",
              "1196  https://play-lh.googleusercontent.com/EGemoI2N...   \n",
              "1197  https://play-lh.googleusercontent.com/EGemoI2N...   \n",
              "1198  https://play-lh.googleusercontent.com/EGemoI2N...   \n",
              "1199  https://play-lh.googleusercontent.com/EGemoI2N...   \n",
              "\n",
              "                                                content  score  thumbsUpCount  \\\n",
              "0                                         murah bangett      5              0   \n",
              "1     Cs nya tidak mau balas balas chatku. Padahal i...      1              0   \n",
              "2                                                    MB      5              0   \n",
              "3     Aplikasi sampah. Isi saldo pake transfer bank ...      1              1   \n",
              "4            Aplikasi worth it buat yg mau jualan pulsa      5              0   \n",
              "...                                                 ...    ...            ...   \n",
              "1195  Mantaaap. Aplikasi dari anda untuk anda.. bisa...      5              0   \n",
              "1196  Mantap harga murah murah disini , cs super ram...      5              0   \n",
              "1197  Aplikasi yg sangat membantu, recommended bange...      5              2   \n",
              "1198  Aplikasi bangbeli produk nya murah murah bange...      5              1   \n",
              "1199  Semenjak saya donwload aplikasi ini nyeri otot...      5              1   \n",
              "\n",
              "     reviewCreatedVersion                  at  \\\n",
              "0                   2.0.0 2023-06-19 11:02:18   \n",
              "1                   1.2.2 2023-06-06 12:26:51   \n",
              "2                    None 2023-06-04 04:32:19   \n",
              "3                   1.2.2 2023-05-16 23:04:46   \n",
              "4                   1.2.2 2023-02-28 14:37:12   \n",
              "...                   ...                 ...   \n",
              "1195                1.1.0 2020-02-04 10:19:39   \n",
              "1196                1.1.0 2020-02-04 10:14:46   \n",
              "1197                1.1.0 2020-02-02 09:13:14   \n",
              "1198                1.1.0 2020-02-01 11:32:34   \n",
              "1199                1.1.0 2020-02-01 00:06:09   \n",
              "\n",
              "                                           replyContent           repliedAt  \\\n",
              "0                                                  None                 NaT   \n",
              "1                                                  None                 NaT   \n",
              "2                                                  None                 NaT   \n",
              "3                                                  None                 NaT   \n",
              "4                                                  None                 NaT   \n",
              "...                                                 ...                 ...   \n",
              "1195  Hai ,\\nTerima kasih telah menggunakan layanan ... 2020-02-21 12:08:06   \n",
              "1196  Hai ,\\nTerima kasih telah menggunakan layanan ... 2020-02-21 12:08:12   \n",
              "1197  Hai ,\\nTerima kasih telah menggunakan layanan ... 2020-02-21 12:08:32   \n",
              "1198  Hai ,\\nTerima kasih telah menggunakan layanan ... 2020-02-21 12:08:51   \n",
              "1199  Hai ,\\nTerima kasih telah menggunakan layanan ... 2020-02-21 12:09:03   \n",
              "\n",
              "     appVersion  \n",
              "0         2.0.0  \n",
              "1         1.2.2  \n",
              "2          None  \n",
              "3         1.2.2  \n",
              "4         1.2.2  \n",
              "...         ...  \n",
              "1195      1.1.0  \n",
              "1196      1.1.0  \n",
              "1197      1.1.0  \n",
              "1198      1.1.0  \n",
              "1199      1.1.0  \n",
              "\n",
              "[1200 rows x 11 columns]"
            ],
            "text/html": [
              "\n",
              "  <div id=\"df-2a5af2fc-5c88-47b8-827a-6cd1f1caa8c8\">\n",
              "    <div class=\"colab-df-container\">\n",
              "      <div>\n",
              "<style scoped>\n",
              "    .dataframe tbody tr th:only-of-type {\n",
              "        vertical-align: middle;\n",
              "    }\n",
              "\n",
              "    .dataframe tbody tr th {\n",
              "        vertical-align: top;\n",
              "    }\n",
              "\n",
              "    .dataframe thead th {\n",
              "        text-align: right;\n",
              "    }\n",
              "</style>\n",
              "<table border=\"1\" class=\"dataframe\">\n",
              "  <thead>\n",
              "    <tr style=\"text-align: right;\">\n",
              "      <th></th>\n",
              "      <th>reviewId</th>\n",
              "      <th>userName</th>\n",
              "      <th>userImage</th>\n",
              "      <th>content</th>\n",
              "      <th>score</th>\n",
              "      <th>thumbsUpCount</th>\n",
              "      <th>reviewCreatedVersion</th>\n",
              "      <th>at</th>\n",
              "      <th>replyContent</th>\n",
              "      <th>repliedAt</th>\n",
              "      <th>appVersion</th>\n",
              "    </tr>\n",
              "  </thead>\n",
              "  <tbody>\n",
              "    <tr>\n",
              "      <th>0</th>\n",
              "      <td>22b96dca-1230-4221-9be4-1696cb69a5b8</td>\n",
              "      <td>Syahrul Al Kautsar</td>\n",
              "      <td>https://play-lh.googleusercontent.com/a-/AD_cM...</td>\n",
              "      <td>murah bangett</td>\n",
              "      <td>5</td>\n",
              "      <td>0</td>\n",
              "      <td>2.0.0</td>\n",
              "      <td>2023-06-19 11:02:18</td>\n",
              "      <td>None</td>\n",
              "      <td>NaT</td>\n",
              "      <td>2.0.0</td>\n",
              "    </tr>\n",
              "    <tr>\n",
              "      <th>1</th>\n",
              "      <td>eba45779-b4da-41e8-8207-04a429d28636</td>\n",
              "      <td>Nur IlhamSyah</td>\n",
              "      <td>https://play-lh.googleusercontent.com/a/AAcHTt...</td>\n",
              "      <td>Cs nya tidak mau balas balas chatku. Padahal i...</td>\n",
              "      <td>1</td>\n",
              "      <td>0</td>\n",
              "      <td>1.2.2</td>\n",
              "      <td>2023-06-06 12:26:51</td>\n",
              "      <td>None</td>\n",
              "      <td>NaT</td>\n",
              "      <td>1.2.2</td>\n",
              "    </tr>\n",
              "    <tr>\n",
              "      <th>2</th>\n",
              "      <td>cc258e0b-f610-48c7-88f1-78a7e5ca7c02</td>\n",
              "      <td>Satria Bernada</td>\n",
              "      <td>https://play-lh.googleusercontent.com/a/AAcHTt...</td>\n",
              "      <td>MB</td>\n",
              "      <td>5</td>\n",
              "      <td>0</td>\n",
              "      <td>None</td>\n",
              "      <td>2023-06-04 04:32:19</td>\n",
              "      <td>None</td>\n",
              "      <td>NaT</td>\n",
              "      <td>None</td>\n",
              "    </tr>\n",
              "    <tr>\n",
              "      <th>3</th>\n",
              "      <td>9adbbe1b-ca96-4ffd-be04-bea051f709b7</td>\n",
              "      <td>lutfi grabag</td>\n",
              "      <td>https://play-lh.googleusercontent.com/a-/AD_cM...</td>\n",
              "      <td>Aplikasi sampah. Isi saldo pake transfer bank ...</td>\n",
              "      <td>1</td>\n",
              "      <td>1</td>\n",
              "      <td>1.2.2</td>\n",
              "      <td>2023-05-16 23:04:46</td>\n",
              "      <td>None</td>\n",
              "      <td>NaT</td>\n",
              "      <td>1.2.2</td>\n",
              "    </tr>\n",
              "    <tr>\n",
              "      <th>4</th>\n",
              "      <td>4daba501-4874-4684-bf82-3f31fd84d5c5</td>\n",
              "      <td>Nur genie</td>\n",
              "      <td>https://play-lh.googleusercontent.com/a-/AD_cM...</td>\n",
              "      <td>Aplikasi worth it buat yg mau jualan pulsa</td>\n",
              "      <td>5</td>\n",
              "      <td>0</td>\n",
              "      <td>1.2.2</td>\n",
              "      <td>2023-02-28 14:37:12</td>\n",
              "      <td>None</td>\n",
              "      <td>NaT</td>\n",
              "      <td>1.2.2</td>\n",
              "    </tr>\n",
              "    <tr>\n",
              "      <th>...</th>\n",
              "      <td>...</td>\n",
              "      <td>...</td>\n",
              "      <td>...</td>\n",
              "      <td>...</td>\n",
              "      <td>...</td>\n",
              "      <td>...</td>\n",
              "      <td>...</td>\n",
              "      <td>...</td>\n",
              "      <td>...</td>\n",
              "      <td>...</td>\n",
              "      <td>...</td>\n",
              "    </tr>\n",
              "    <tr>\n",
              "      <th>1195</th>\n",
              "      <td>c8bdabed-eb84-4999-acff-0420e503b404</td>\n",
              "      <td>Pengguna Google</td>\n",
              "      <td>https://play-lh.googleusercontent.com/EGemoI2N...</td>\n",
              "      <td>Mantaaap. Aplikasi dari anda untuk anda.. bisa...</td>\n",
              "      <td>5</td>\n",
              "      <td>0</td>\n",
              "      <td>1.1.0</td>\n",
              "      <td>2020-02-04 10:19:39</td>\n",
              "      <td>Hai ,\\nTerima kasih telah menggunakan layanan ...</td>\n",
              "      <td>2020-02-21 12:08:06</td>\n",
              "      <td>1.1.0</td>\n",
              "    </tr>\n",
              "    <tr>\n",
              "      <th>1196</th>\n",
              "      <td>cc005a74-0523-44ca-aa6b-f63e0a47fda3</td>\n",
              "      <td>Pengguna Google</td>\n",
              "      <td>https://play-lh.googleusercontent.com/EGemoI2N...</td>\n",
              "      <td>Mantap harga murah murah disini , cs super ram...</td>\n",
              "      <td>5</td>\n",
              "      <td>0</td>\n",
              "      <td>1.1.0</td>\n",
              "      <td>2020-02-04 10:14:46</td>\n",
              "      <td>Hai ,\\nTerima kasih telah menggunakan layanan ...</td>\n",
              "      <td>2020-02-21 12:08:12</td>\n",
              "      <td>1.1.0</td>\n",
              "    </tr>\n",
              "    <tr>\n",
              "      <th>1197</th>\n",
              "      <td>c0cf1c15-b421-45da-99aa-2ffaea8a35b2</td>\n",
              "      <td>Pengguna Google</td>\n",
              "      <td>https://play-lh.googleusercontent.com/EGemoI2N...</td>\n",
              "      <td>Aplikasi yg sangat membantu, recommended bange...</td>\n",
              "      <td>5</td>\n",
              "      <td>2</td>\n",
              "      <td>1.1.0</td>\n",
              "      <td>2020-02-02 09:13:14</td>\n",
              "      <td>Hai ,\\nTerima kasih telah menggunakan layanan ...</td>\n",
              "      <td>2020-02-21 12:08:32</td>\n",
              "      <td>1.1.0</td>\n",
              "    </tr>\n",
              "    <tr>\n",
              "      <th>1198</th>\n",
              "      <td>48e02cd5-8997-4db6-8050-91c8530c1576</td>\n",
              "      <td>Pengguna Google</td>\n",
              "      <td>https://play-lh.googleusercontent.com/EGemoI2N...</td>\n",
              "      <td>Aplikasi bangbeli produk nya murah murah bange...</td>\n",
              "      <td>5</td>\n",
              "      <td>1</td>\n",
              "      <td>1.1.0</td>\n",
              "      <td>2020-02-01 11:32:34</td>\n",
              "      <td>Hai ,\\nTerima kasih telah menggunakan layanan ...</td>\n",
              "      <td>2020-02-21 12:08:51</td>\n",
              "      <td>1.1.0</td>\n",
              "    </tr>\n",
              "    <tr>\n",
              "      <th>1199</th>\n",
              "      <td>10c0a81f-a5c3-4fe8-b187-a9727a6e7ee8</td>\n",
              "      <td>Pengguna Google</td>\n",
              "      <td>https://play-lh.googleusercontent.com/EGemoI2N...</td>\n",
              "      <td>Semenjak saya donwload aplikasi ini nyeri otot...</td>\n",
              "      <td>5</td>\n",
              "      <td>1</td>\n",
              "      <td>1.1.0</td>\n",
              "      <td>2020-02-01 00:06:09</td>\n",
              "      <td>Hai ,\\nTerima kasih telah menggunakan layanan ...</td>\n",
              "      <td>2020-02-21 12:09:03</td>\n",
              "      <td>1.1.0</td>\n",
              "    </tr>\n",
              "  </tbody>\n",
              "</table>\n",
              "<p>1200 rows × 11 columns</p>\n",
              "</div>\n",
              "      <button class=\"colab-df-convert\" onclick=\"convertToInteractive('df-2a5af2fc-5c88-47b8-827a-6cd1f1caa8c8')\"\n",
              "              title=\"Convert this dataframe to an interactive table.\"\n",
              "              style=\"display:none;\">\n",
              "        \n",
              "  <svg xmlns=\"http://www.w3.org/2000/svg\" height=\"24px\"viewBox=\"0 0 24 24\"\n",
              "       width=\"24px\">\n",
              "    <path d=\"M0 0h24v24H0V0z\" fill=\"none\"/>\n",
              "    <path d=\"M18.56 5.44l.94 2.06.94-2.06 2.06-.94-2.06-.94-.94-2.06-.94 2.06-2.06.94zm-11 1L8.5 8.5l.94-2.06 2.06-.94-2.06-.94L8.5 2.5l-.94 2.06-2.06.94zm10 10l.94 2.06.94-2.06 2.06-.94-2.06-.94-.94-2.06-.94 2.06-2.06.94z\"/><path d=\"M17.41 7.96l-1.37-1.37c-.4-.4-.92-.59-1.43-.59-.52 0-1.04.2-1.43.59L10.3 9.45l-7.72 7.72c-.78.78-.78 2.05 0 2.83L4 21.41c.39.39.9.59 1.41.59.51 0 1.02-.2 1.41-.59l7.78-7.78 2.81-2.81c.8-.78.8-2.07 0-2.86zM5.41 20L4 18.59l7.72-7.72 1.47 1.35L5.41 20z\"/>\n",
              "  </svg>\n",
              "      </button>\n",
              "      \n",
              "  <style>\n",
              "    .colab-df-container {\n",
              "      display:flex;\n",
              "      flex-wrap:wrap;\n",
              "      gap: 12px;\n",
              "    }\n",
              "\n",
              "    .colab-df-convert {\n",
              "      background-color: #E8F0FE;\n",
              "      border: none;\n",
              "      border-radius: 50%;\n",
              "      cursor: pointer;\n",
              "      display: none;\n",
              "      fill: #1967D2;\n",
              "      height: 32px;\n",
              "      padding: 0 0 0 0;\n",
              "      width: 32px;\n",
              "    }\n",
              "\n",
              "    .colab-df-convert:hover {\n",
              "      background-color: #E2EBFA;\n",
              "      box-shadow: 0px 1px 2px rgba(60, 64, 67, 0.3), 0px 1px 3px 1px rgba(60, 64, 67, 0.15);\n",
              "      fill: #174EA6;\n",
              "    }\n",
              "\n",
              "    [theme=dark] .colab-df-convert {\n",
              "      background-color: #3B4455;\n",
              "      fill: #D2E3FC;\n",
              "    }\n",
              "\n",
              "    [theme=dark] .colab-df-convert:hover {\n",
              "      background-color: #434B5C;\n",
              "      box-shadow: 0px 1px 3px 1px rgba(0, 0, 0, 0.15);\n",
              "      filter: drop-shadow(0px 1px 2px rgba(0, 0, 0, 0.3));\n",
              "      fill: #FFFFFF;\n",
              "    }\n",
              "  </style>\n",
              "\n",
              "      <script>\n",
              "        const buttonEl =\n",
              "          document.querySelector('#df-2a5af2fc-5c88-47b8-827a-6cd1f1caa8c8 button.colab-df-convert');\n",
              "        buttonEl.style.display =\n",
              "          google.colab.kernel.accessAllowed ? 'block' : 'none';\n",
              "\n",
              "        async function convertToInteractive(key) {\n",
              "          const element = document.querySelector('#df-2a5af2fc-5c88-47b8-827a-6cd1f1caa8c8');\n",
              "          const dataTable =\n",
              "            await google.colab.kernel.invokeFunction('convertToInteractive',\n",
              "                                                     [key], {});\n",
              "          if (!dataTable) return;\n",
              "\n",
              "          const docLinkHtml = 'Like what you see? Visit the ' +\n",
              "            '<a target=\"_blank\" href=https://colab.research.google.com/notebooks/data_table.ipynb>data table notebook</a>'\n",
              "            + ' to learn more about interactive tables.';\n",
              "          element.innerHTML = '';\n",
              "          dataTable['output_type'] = 'display_data';\n",
              "          await google.colab.output.renderOutput(dataTable, element);\n",
              "          const docLink = document.createElement('div');\n",
              "          docLink.innerHTML = docLinkHtml;\n",
              "          element.appendChild(docLink);\n",
              "        }\n",
              "      </script>\n",
              "    </div>\n",
              "  </div>\n",
              "  "
            ]
          },
          "metadata": {},
          "execution_count": 4
        }
      ],
      "source": [
        "app_reviews_df = pd.DataFrame(scrapreview)\n",
        "app_reviews_df"
      ]
    },
    {
      "cell_type": "code",
      "execution_count": null,
      "metadata": {
        "id": "amnMdmwRVMsq"
      },
      "outputs": [],
      "source": [
        "from google.colab import files"
      ]
    },
    {
      "cell_type": "code",
      "execution_count": null,
      "metadata": {
        "colab": {
          "base_uri": "https://localhost:8080/",
          "height": 17
        },
        "id": "1ksMs6p4RlSc",
        "outputId": "f847ad4d-b0ac-411a-996c-4691e76ed3e5"
      },
      "outputs": [
        {
          "output_type": "display_data",
          "data": {
            "text/plain": [
              "<IPython.core.display.Javascript object>"
            ],
            "application/javascript": [
              "\n",
              "    async function download(id, filename, size) {\n",
              "      if (!google.colab.kernel.accessAllowed) {\n",
              "        return;\n",
              "      }\n",
              "      const div = document.createElement('div');\n",
              "      const label = document.createElement('label');\n",
              "      label.textContent = `Downloading \"${filename}\": `;\n",
              "      div.appendChild(label);\n",
              "      const progress = document.createElement('progress');\n",
              "      progress.max = size;\n",
              "      div.appendChild(progress);\n",
              "      document.body.appendChild(div);\n",
              "\n",
              "      const buffers = [];\n",
              "      let downloaded = 0;\n",
              "\n",
              "      const channel = await google.colab.kernel.comms.open(id);\n",
              "      // Send a message to notify the kernel that we're ready.\n",
              "      channel.send({})\n",
              "\n",
              "      for await (const message of channel.messages) {\n",
              "        // Send a message to notify the kernel that we're ready.\n",
              "        channel.send({})\n",
              "        if (message.buffers) {\n",
              "          for (const buffer of message.buffers) {\n",
              "            buffers.push(buffer);\n",
              "            downloaded += buffer.byteLength;\n",
              "            progress.value = downloaded;\n",
              "          }\n",
              "        }\n",
              "      }\n",
              "      const blob = new Blob(buffers, {type: 'application/binary'});\n",
              "      const a = document.createElement('a');\n",
              "      a.href = window.URL.createObjectURL(blob);\n",
              "      a.download = filename;\n",
              "      div.appendChild(a);\n",
              "      a.click();\n",
              "      div.remove();\n",
              "    }\n",
              "  "
            ]
          },
          "metadata": {}
        },
        {
          "output_type": "display_data",
          "data": {
            "text/plain": [
              "<IPython.core.display.Javascript object>"
            ],
            "application/javascript": [
              "download(\"download_f7e49723-74d5-4444-a049-f2bdbabb8fe9\", \"ulasanbangbeli.xlsx\", 221713)"
            ]
          },
          "metadata": {}
        }
      ],
      "source": [
        "#EXCEL\n",
        "app_reviews_df.to_excel('ulasanbangbeli.xlsx', index=False)\n",
        "files.download('ulasanbangbeli.xlsx')"
      ]
    },
    {
      "cell_type": "code",
      "execution_count": null,
      "metadata": {
        "colab": {
          "base_uri": "https://localhost:8080/",
          "height": 17
        },
        "id": "__EJNWerWr3d",
        "outputId": "059edd56-e56d-469a-b559-5cab64529073"
      },
      "outputs": [
        {
          "output_type": "display_data",
          "data": {
            "text/plain": [
              "<IPython.core.display.Javascript object>"
            ],
            "application/javascript": [
              "\n",
              "    async function download(id, filename, size) {\n",
              "      if (!google.colab.kernel.accessAllowed) {\n",
              "        return;\n",
              "      }\n",
              "      const div = document.createElement('div');\n",
              "      const label = document.createElement('label');\n",
              "      label.textContent = `Downloading \"${filename}\": `;\n",
              "      div.appendChild(label);\n",
              "      const progress = document.createElement('progress');\n",
              "      progress.max = size;\n",
              "      div.appendChild(progress);\n",
              "      document.body.appendChild(div);\n",
              "\n",
              "      const buffers = [];\n",
              "      let downloaded = 0;\n",
              "\n",
              "      const channel = await google.colab.kernel.comms.open(id);\n",
              "      // Send a message to notify the kernel that we're ready.\n",
              "      channel.send({})\n",
              "\n",
              "      for await (const message of channel.messages) {\n",
              "        // Send a message to notify the kernel that we're ready.\n",
              "        channel.send({})\n",
              "        if (message.buffers) {\n",
              "          for (const buffer of message.buffers) {\n",
              "            buffers.push(buffer);\n",
              "            downloaded += buffer.byteLength;\n",
              "            progress.value = downloaded;\n",
              "          }\n",
              "        }\n",
              "      }\n",
              "      const blob = new Blob(buffers, {type: 'application/binary'});\n",
              "      const a = document.createElement('a');\n",
              "      a.href = window.URL.createObjectURL(blob);\n",
              "      a.download = filename;\n",
              "      div.appendChild(a);\n",
              "      a.click();\n",
              "      div.remove();\n",
              "    }\n",
              "  "
            ]
          },
          "metadata": {}
        },
        {
          "output_type": "display_data",
          "data": {
            "text/plain": [
              "<IPython.core.display.Javascript object>"
            ],
            "application/javascript": [
              "download(\"download_cfebc30d-3531-4597-9bb1-6ce5ef70e560\", \"ulasanbangbeli.csv\", 398800)"
            ]
          },
          "metadata": {}
        }
      ],
      "source": [
        "#CSV\n",
        "app_reviews_df.to_csv('ulasanbangbeli.csv', index=False)\n",
        "files.download('ulasanbangbeli.csv')"
      ]
    },
    {
      "cell_type": "markdown",
      "metadata": {
        "id": "3odQXvkZWYYI"
      },
      "source": [
        "**DATA CLEANING**"
      ]
    },
    {
      "cell_type": "code",
      "execution_count": null,
      "metadata": {
        "id": "p1Ncuw4RY6FP"
      },
      "outputs": [],
      "source": [
        "import numpy as np\n",
        "import pandas as pd\n",
        "from sklearn import preprocessing\n",
        "from sklearn.feature_extraction.text import CountVectorizer, TfidfVectorizer\n",
        "from sklearn.metrics import accuracy_score\n",
        "import matplotlib\n",
        "from matplotlib import pyplot as plt\n",
        "import string\n",
        "import re\n",
        "import csv\n",
        "import random\n",
        "import pickle\n",
        "import numpy as np\n",
        "import tensorflow as tf\n",
        "from tensorflow.keras.preprocessing.text import Tokenizer\n",
        "from tensorflow.keras.preprocessing.sequence import pad_sequences\n",
        "from sklearn.model_selection import train_test_split\n",
        "from keras.models import model_from_json\n",
        "import io\n",
        "import json\n",
        "import nltk\n",
        "from nltk.tokenize import word_tokenize\n",
        "from nltk.probability import FreqDist\n",
        "from nltk.corpus import stopwords\n",
        "import gensim\n",
        "from imblearn.over_sampling import RandomOverSampler"
      ]
    },
    {
      "cell_type": "code",
      "execution_count": null,
      "metadata": {
        "colab": {
          "base_uri": "https://localhost:8080/"
        },
        "id": "rMfc5R5XRjl6",
        "outputId": "149821a3-b6ee-4092-d2c4-b23539ad0928"
      },
      "outputs": [
        {
          "output_type": "stream",
          "name": "stdout",
          "text": [
            "Mounted at /content/drive\n"
          ]
        }
      ],
      "source": [
        "from google.colab import drive\n",
        "drive.mount('/content/drive')"
      ]
    },
    {
      "cell_type": "code",
      "execution_count": null,
      "metadata": {
        "id": "t1CSPD-0XQwI"
      },
      "outputs": [],
      "source": [
        "data = pd.read_csv('/content/ulasanbangbeli.csv', encoding='UTF-8', sep=\",\")"
      ]
    },
    {
      "cell_type": "code",
      "execution_count": null,
      "metadata": {
        "colab": {
          "base_uri": "https://localhost:8080/",
          "height": 337
        },
        "id": "AGyWh_KvXZUz",
        "outputId": "d3d1ec1a-774c-400e-9edc-f7754805dd7e"
      },
      "outputs": [
        {
          "output_type": "execute_result",
          "data": {
            "text/plain": [
              "                               reviewId            userName  \\\n",
              "0  22b96dca-1230-4221-9be4-1696cb69a5b8  Syahrul Al Kautsar   \n",
              "1  eba45779-b4da-41e8-8207-04a429d28636       Nur IlhamSyah   \n",
              "2  cc258e0b-f610-48c7-88f1-78a7e5ca7c02      Satria Bernada   \n",
              "3  9adbbe1b-ca96-4ffd-be04-bea051f709b7        lutfi grabag   \n",
              "4  4daba501-4874-4684-bf82-3f31fd84d5c5           Nur genie   \n",
              "\n",
              "                                           userImage  \\\n",
              "0  https://play-lh.googleusercontent.com/a-/AD_cM...   \n",
              "1  https://play-lh.googleusercontent.com/a/AAcHTt...   \n",
              "2  https://play-lh.googleusercontent.com/a/AAcHTt...   \n",
              "3  https://play-lh.googleusercontent.com/a-/AD_cM...   \n",
              "4  https://play-lh.googleusercontent.com/a-/AD_cM...   \n",
              "\n",
              "                                             content  score  thumbsUpCount  \\\n",
              "0                                      murah bangett      5              0   \n",
              "1  Cs nya tidak mau balas balas chatku. Padahal i...      1              0   \n",
              "2                                                 MB      5              0   \n",
              "3  Aplikasi sampah. Isi saldo pake transfer bank ...      1              1   \n",
              "4         Aplikasi worth it buat yg mau jualan pulsa      5              0   \n",
              "\n",
              "  reviewCreatedVersion                   at replyContent repliedAt appVersion  \n",
              "0                2.0.0  2023-06-19 11:02:18          NaN       NaN      2.0.0  \n",
              "1                1.2.2  2023-06-06 12:26:51          NaN       NaN      1.2.2  \n",
              "2                  NaN  2023-06-04 04:32:19          NaN       NaN        NaN  \n",
              "3                1.2.2  2023-05-16 23:04:46          NaN       NaN      1.2.2  \n",
              "4                1.2.2  2023-02-28 14:37:12          NaN       NaN      1.2.2  "
            ],
            "text/html": [
              "\n",
              "  <div id=\"df-e86bef90-9b41-471e-9888-0dbfde8c6fc2\">\n",
              "    <div class=\"colab-df-container\">\n",
              "      <div>\n",
              "<style scoped>\n",
              "    .dataframe tbody tr th:only-of-type {\n",
              "        vertical-align: middle;\n",
              "    }\n",
              "\n",
              "    .dataframe tbody tr th {\n",
              "        vertical-align: top;\n",
              "    }\n",
              "\n",
              "    .dataframe thead th {\n",
              "        text-align: right;\n",
              "    }\n",
              "</style>\n",
              "<table border=\"1\" class=\"dataframe\">\n",
              "  <thead>\n",
              "    <tr style=\"text-align: right;\">\n",
              "      <th></th>\n",
              "      <th>reviewId</th>\n",
              "      <th>userName</th>\n",
              "      <th>userImage</th>\n",
              "      <th>content</th>\n",
              "      <th>score</th>\n",
              "      <th>thumbsUpCount</th>\n",
              "      <th>reviewCreatedVersion</th>\n",
              "      <th>at</th>\n",
              "      <th>replyContent</th>\n",
              "      <th>repliedAt</th>\n",
              "      <th>appVersion</th>\n",
              "    </tr>\n",
              "  </thead>\n",
              "  <tbody>\n",
              "    <tr>\n",
              "      <th>0</th>\n",
              "      <td>22b96dca-1230-4221-9be4-1696cb69a5b8</td>\n",
              "      <td>Syahrul Al Kautsar</td>\n",
              "      <td>https://play-lh.googleusercontent.com/a-/AD_cM...</td>\n",
              "      <td>murah bangett</td>\n",
              "      <td>5</td>\n",
              "      <td>0</td>\n",
              "      <td>2.0.0</td>\n",
              "      <td>2023-06-19 11:02:18</td>\n",
              "      <td>NaN</td>\n",
              "      <td>NaN</td>\n",
              "      <td>2.0.0</td>\n",
              "    </tr>\n",
              "    <tr>\n",
              "      <th>1</th>\n",
              "      <td>eba45779-b4da-41e8-8207-04a429d28636</td>\n",
              "      <td>Nur IlhamSyah</td>\n",
              "      <td>https://play-lh.googleusercontent.com/a/AAcHTt...</td>\n",
              "      <td>Cs nya tidak mau balas balas chatku. Padahal i...</td>\n",
              "      <td>1</td>\n",
              "      <td>0</td>\n",
              "      <td>1.2.2</td>\n",
              "      <td>2023-06-06 12:26:51</td>\n",
              "      <td>NaN</td>\n",
              "      <td>NaN</td>\n",
              "      <td>1.2.2</td>\n",
              "    </tr>\n",
              "    <tr>\n",
              "      <th>2</th>\n",
              "      <td>cc258e0b-f610-48c7-88f1-78a7e5ca7c02</td>\n",
              "      <td>Satria Bernada</td>\n",
              "      <td>https://play-lh.googleusercontent.com/a/AAcHTt...</td>\n",
              "      <td>MB</td>\n",
              "      <td>5</td>\n",
              "      <td>0</td>\n",
              "      <td>NaN</td>\n",
              "      <td>2023-06-04 04:32:19</td>\n",
              "      <td>NaN</td>\n",
              "      <td>NaN</td>\n",
              "      <td>NaN</td>\n",
              "    </tr>\n",
              "    <tr>\n",
              "      <th>3</th>\n",
              "      <td>9adbbe1b-ca96-4ffd-be04-bea051f709b7</td>\n",
              "      <td>lutfi grabag</td>\n",
              "      <td>https://play-lh.googleusercontent.com/a-/AD_cM...</td>\n",
              "      <td>Aplikasi sampah. Isi saldo pake transfer bank ...</td>\n",
              "      <td>1</td>\n",
              "      <td>1</td>\n",
              "      <td>1.2.2</td>\n",
              "      <td>2023-05-16 23:04:46</td>\n",
              "      <td>NaN</td>\n",
              "      <td>NaN</td>\n",
              "      <td>1.2.2</td>\n",
              "    </tr>\n",
              "    <tr>\n",
              "      <th>4</th>\n",
              "      <td>4daba501-4874-4684-bf82-3f31fd84d5c5</td>\n",
              "      <td>Nur genie</td>\n",
              "      <td>https://play-lh.googleusercontent.com/a-/AD_cM...</td>\n",
              "      <td>Aplikasi worth it buat yg mau jualan pulsa</td>\n",
              "      <td>5</td>\n",
              "      <td>0</td>\n",
              "      <td>1.2.2</td>\n",
              "      <td>2023-02-28 14:37:12</td>\n",
              "      <td>NaN</td>\n",
              "      <td>NaN</td>\n",
              "      <td>1.2.2</td>\n",
              "    </tr>\n",
              "  </tbody>\n",
              "</table>\n",
              "</div>\n",
              "      <button class=\"colab-df-convert\" onclick=\"convertToInteractive('df-e86bef90-9b41-471e-9888-0dbfde8c6fc2')\"\n",
              "              title=\"Convert this dataframe to an interactive table.\"\n",
              "              style=\"display:none;\">\n",
              "        \n",
              "  <svg xmlns=\"http://www.w3.org/2000/svg\" height=\"24px\"viewBox=\"0 0 24 24\"\n",
              "       width=\"24px\">\n",
              "    <path d=\"M0 0h24v24H0V0z\" fill=\"none\"/>\n",
              "    <path d=\"M18.56 5.44l.94 2.06.94-2.06 2.06-.94-2.06-.94-.94-2.06-.94 2.06-2.06.94zm-11 1L8.5 8.5l.94-2.06 2.06-.94-2.06-.94L8.5 2.5l-.94 2.06-2.06.94zm10 10l.94 2.06.94-2.06 2.06-.94-2.06-.94-.94-2.06-.94 2.06-2.06.94z\"/><path d=\"M17.41 7.96l-1.37-1.37c-.4-.4-.92-.59-1.43-.59-.52 0-1.04.2-1.43.59L10.3 9.45l-7.72 7.72c-.78.78-.78 2.05 0 2.83L4 21.41c.39.39.9.59 1.41.59.51 0 1.02-.2 1.41-.59l7.78-7.78 2.81-2.81c.8-.78.8-2.07 0-2.86zM5.41 20L4 18.59l7.72-7.72 1.47 1.35L5.41 20z\"/>\n",
              "  </svg>\n",
              "      </button>\n",
              "      \n",
              "  <style>\n",
              "    .colab-df-container {\n",
              "      display:flex;\n",
              "      flex-wrap:wrap;\n",
              "      gap: 12px;\n",
              "    }\n",
              "\n",
              "    .colab-df-convert {\n",
              "      background-color: #E8F0FE;\n",
              "      border: none;\n",
              "      border-radius: 50%;\n",
              "      cursor: pointer;\n",
              "      display: none;\n",
              "      fill: #1967D2;\n",
              "      height: 32px;\n",
              "      padding: 0 0 0 0;\n",
              "      width: 32px;\n",
              "    }\n",
              "\n",
              "    .colab-df-convert:hover {\n",
              "      background-color: #E2EBFA;\n",
              "      box-shadow: 0px 1px 2px rgba(60, 64, 67, 0.3), 0px 1px 3px 1px rgba(60, 64, 67, 0.15);\n",
              "      fill: #174EA6;\n",
              "    }\n",
              "\n",
              "    [theme=dark] .colab-df-convert {\n",
              "      background-color: #3B4455;\n",
              "      fill: #D2E3FC;\n",
              "    }\n",
              "\n",
              "    [theme=dark] .colab-df-convert:hover {\n",
              "      background-color: #434B5C;\n",
              "      box-shadow: 0px 1px 3px 1px rgba(0, 0, 0, 0.15);\n",
              "      filter: drop-shadow(0px 1px 2px rgba(0, 0, 0, 0.3));\n",
              "      fill: #FFFFFF;\n",
              "    }\n",
              "  </style>\n",
              "\n",
              "      <script>\n",
              "        const buttonEl =\n",
              "          document.querySelector('#df-e86bef90-9b41-471e-9888-0dbfde8c6fc2 button.colab-df-convert');\n",
              "        buttonEl.style.display =\n",
              "          google.colab.kernel.accessAllowed ? 'block' : 'none';\n",
              "\n",
              "        async function convertToInteractive(key) {\n",
              "          const element = document.querySelector('#df-e86bef90-9b41-471e-9888-0dbfde8c6fc2');\n",
              "          const dataTable =\n",
              "            await google.colab.kernel.invokeFunction('convertToInteractive',\n",
              "                                                     [key], {});\n",
              "          if (!dataTable) return;\n",
              "\n",
              "          const docLinkHtml = 'Like what you see? Visit the ' +\n",
              "            '<a target=\"_blank\" href=https://colab.research.google.com/notebooks/data_table.ipynb>data table notebook</a>'\n",
              "            + ' to learn more about interactive tables.';\n",
              "          element.innerHTML = '';\n",
              "          dataTable['output_type'] = 'display_data';\n",
              "          await google.colab.output.renderOutput(dataTable, element);\n",
              "          const docLink = document.createElement('div');\n",
              "          docLink.innerHTML = docLinkHtml;\n",
              "          element.appendChild(docLink);\n",
              "        }\n",
              "      </script>\n",
              "    </div>\n",
              "  </div>\n",
              "  "
            ]
          },
          "metadata": {},
          "execution_count": 11
        }
      ],
      "source": [
        "data.head()"
      ]
    },
    {
      "cell_type": "code",
      "execution_count": null,
      "metadata": {
        "colab": {
          "base_uri": "https://localhost:8080/",
          "height": 337
        },
        "id": "SMZRX05igKJf",
        "outputId": "7a2feb87-a99d-42b8-a80f-8c65b844eb8b"
      },
      "outputs": [
        {
          "output_type": "execute_result",
          "data": {
            "text/plain": [
              "                               reviewId            userName  \\\n",
              "0  22b96dca-1230-4221-9be4-1696cb69a5b8  Syahrul Al Kautsar   \n",
              "1  eba45779-b4da-41e8-8207-04a429d28636       Nur IlhamSyah   \n",
              "2  cc258e0b-f610-48c7-88f1-78a7e5ca7c02      Satria Bernada   \n",
              "3  9adbbe1b-ca96-4ffd-be04-bea051f709b7        lutfi grabag   \n",
              "4  4daba501-4874-4684-bf82-3f31fd84d5c5           Nur genie   \n",
              "\n",
              "                                           userImage  \\\n",
              "0  https://play-lh.googleusercontent.com/a-/AD_cM...   \n",
              "1  https://play-lh.googleusercontent.com/a/AAcHTt...   \n",
              "2  https://play-lh.googleusercontent.com/a/AAcHTt...   \n",
              "3  https://play-lh.googleusercontent.com/a-/AD_cM...   \n",
              "4  https://play-lh.googleusercontent.com/a-/AD_cM...   \n",
              "\n",
              "                                             content  score  thumbsUpCount  \\\n",
              "0                                      murah bangett      5              0   \n",
              "1  Cs nya tidak mau balas balas chatku. Padahal i...      1              0   \n",
              "2                                                 MB      5              0   \n",
              "3  Aplikasi sampah. Isi saldo pake transfer bank ...      1              1   \n",
              "4         Aplikasi worth it buat yg mau jualan pulsa      5              0   \n",
              "\n",
              "  reviewCreatedVersion                   at replyContent repliedAt appVersion  \\\n",
              "0                2.0.0  2023-06-19 11:02:18          NaN       NaN      2.0.0   \n",
              "1                1.2.2  2023-06-06 12:26:51          NaN       NaN      1.2.2   \n",
              "2                  NaN  2023-06-04 04:32:19          NaN       NaN        NaN   \n",
              "3                1.2.2  2023-05-16 23:04:46          NaN       NaN      1.2.2   \n",
              "4                1.2.2  2023-02-28 14:37:12          NaN       NaN      1.2.2   \n",
              "\n",
              "  Label  \n",
              "0     1  \n",
              "1     0  \n",
              "2     1  \n",
              "3     0  \n",
              "4     1  "
            ],
            "text/html": [
              "\n",
              "  <div id=\"df-5c2ad87c-016a-4812-bb57-52095c91bafd\">\n",
              "    <div class=\"colab-df-container\">\n",
              "      <div>\n",
              "<style scoped>\n",
              "    .dataframe tbody tr th:only-of-type {\n",
              "        vertical-align: middle;\n",
              "    }\n",
              "\n",
              "    .dataframe tbody tr th {\n",
              "        vertical-align: top;\n",
              "    }\n",
              "\n",
              "    .dataframe thead th {\n",
              "        text-align: right;\n",
              "    }\n",
              "</style>\n",
              "<table border=\"1\" class=\"dataframe\">\n",
              "  <thead>\n",
              "    <tr style=\"text-align: right;\">\n",
              "      <th></th>\n",
              "      <th>reviewId</th>\n",
              "      <th>userName</th>\n",
              "      <th>userImage</th>\n",
              "      <th>content</th>\n",
              "      <th>score</th>\n",
              "      <th>thumbsUpCount</th>\n",
              "      <th>reviewCreatedVersion</th>\n",
              "      <th>at</th>\n",
              "      <th>replyContent</th>\n",
              "      <th>repliedAt</th>\n",
              "      <th>appVersion</th>\n",
              "      <th>Label</th>\n",
              "    </tr>\n",
              "  </thead>\n",
              "  <tbody>\n",
              "    <tr>\n",
              "      <th>0</th>\n",
              "      <td>22b96dca-1230-4221-9be4-1696cb69a5b8</td>\n",
              "      <td>Syahrul Al Kautsar</td>\n",
              "      <td>https://play-lh.googleusercontent.com/a-/AD_cM...</td>\n",
              "      <td>murah bangett</td>\n",
              "      <td>5</td>\n",
              "      <td>0</td>\n",
              "      <td>2.0.0</td>\n",
              "      <td>2023-06-19 11:02:18</td>\n",
              "      <td>NaN</td>\n",
              "      <td>NaN</td>\n",
              "      <td>2.0.0</td>\n",
              "      <td>1</td>\n",
              "    </tr>\n",
              "    <tr>\n",
              "      <th>1</th>\n",
              "      <td>eba45779-b4da-41e8-8207-04a429d28636</td>\n",
              "      <td>Nur IlhamSyah</td>\n",
              "      <td>https://play-lh.googleusercontent.com/a/AAcHTt...</td>\n",
              "      <td>Cs nya tidak mau balas balas chatku. Padahal i...</td>\n",
              "      <td>1</td>\n",
              "      <td>0</td>\n",
              "      <td>1.2.2</td>\n",
              "      <td>2023-06-06 12:26:51</td>\n",
              "      <td>NaN</td>\n",
              "      <td>NaN</td>\n",
              "      <td>1.2.2</td>\n",
              "      <td>0</td>\n",
              "    </tr>\n",
              "    <tr>\n",
              "      <th>2</th>\n",
              "      <td>cc258e0b-f610-48c7-88f1-78a7e5ca7c02</td>\n",
              "      <td>Satria Bernada</td>\n",
              "      <td>https://play-lh.googleusercontent.com/a/AAcHTt...</td>\n",
              "      <td>MB</td>\n",
              "      <td>5</td>\n",
              "      <td>0</td>\n",
              "      <td>NaN</td>\n",
              "      <td>2023-06-04 04:32:19</td>\n",
              "      <td>NaN</td>\n",
              "      <td>NaN</td>\n",
              "      <td>NaN</td>\n",
              "      <td>1</td>\n",
              "    </tr>\n",
              "    <tr>\n",
              "      <th>3</th>\n",
              "      <td>9adbbe1b-ca96-4ffd-be04-bea051f709b7</td>\n",
              "      <td>lutfi grabag</td>\n",
              "      <td>https://play-lh.googleusercontent.com/a-/AD_cM...</td>\n",
              "      <td>Aplikasi sampah. Isi saldo pake transfer bank ...</td>\n",
              "      <td>1</td>\n",
              "      <td>1</td>\n",
              "      <td>1.2.2</td>\n",
              "      <td>2023-05-16 23:04:46</td>\n",
              "      <td>NaN</td>\n",
              "      <td>NaN</td>\n",
              "      <td>1.2.2</td>\n",
              "      <td>0</td>\n",
              "    </tr>\n",
              "    <tr>\n",
              "      <th>4</th>\n",
              "      <td>4daba501-4874-4684-bf82-3f31fd84d5c5</td>\n",
              "      <td>Nur genie</td>\n",
              "      <td>https://play-lh.googleusercontent.com/a-/AD_cM...</td>\n",
              "      <td>Aplikasi worth it buat yg mau jualan pulsa</td>\n",
              "      <td>5</td>\n",
              "      <td>0</td>\n",
              "      <td>1.2.2</td>\n",
              "      <td>2023-02-28 14:37:12</td>\n",
              "      <td>NaN</td>\n",
              "      <td>NaN</td>\n",
              "      <td>1.2.2</td>\n",
              "      <td>1</td>\n",
              "    </tr>\n",
              "  </tbody>\n",
              "</table>\n",
              "</div>\n",
              "      <button class=\"colab-df-convert\" onclick=\"convertToInteractive('df-5c2ad87c-016a-4812-bb57-52095c91bafd')\"\n",
              "              title=\"Convert this dataframe to an interactive table.\"\n",
              "              style=\"display:none;\">\n",
              "        \n",
              "  <svg xmlns=\"http://www.w3.org/2000/svg\" height=\"24px\"viewBox=\"0 0 24 24\"\n",
              "       width=\"24px\">\n",
              "    <path d=\"M0 0h24v24H0V0z\" fill=\"none\"/>\n",
              "    <path d=\"M18.56 5.44l.94 2.06.94-2.06 2.06-.94-2.06-.94-.94-2.06-.94 2.06-2.06.94zm-11 1L8.5 8.5l.94-2.06 2.06-.94-2.06-.94L8.5 2.5l-.94 2.06-2.06.94zm10 10l.94 2.06.94-2.06 2.06-.94-2.06-.94-.94-2.06-.94 2.06-2.06.94z\"/><path d=\"M17.41 7.96l-1.37-1.37c-.4-.4-.92-.59-1.43-.59-.52 0-1.04.2-1.43.59L10.3 9.45l-7.72 7.72c-.78.78-.78 2.05 0 2.83L4 21.41c.39.39.9.59 1.41.59.51 0 1.02-.2 1.41-.59l7.78-7.78 2.81-2.81c.8-.78.8-2.07 0-2.86zM5.41 20L4 18.59l7.72-7.72 1.47 1.35L5.41 20z\"/>\n",
              "  </svg>\n",
              "      </button>\n",
              "      \n",
              "  <style>\n",
              "    .colab-df-container {\n",
              "      display:flex;\n",
              "      flex-wrap:wrap;\n",
              "      gap: 12px;\n",
              "    }\n",
              "\n",
              "    .colab-df-convert {\n",
              "      background-color: #E8F0FE;\n",
              "      border: none;\n",
              "      border-radius: 50%;\n",
              "      cursor: pointer;\n",
              "      display: none;\n",
              "      fill: #1967D2;\n",
              "      height: 32px;\n",
              "      padding: 0 0 0 0;\n",
              "      width: 32px;\n",
              "    }\n",
              "\n",
              "    .colab-df-convert:hover {\n",
              "      background-color: #E2EBFA;\n",
              "      box-shadow: 0px 1px 2px rgba(60, 64, 67, 0.3), 0px 1px 3px 1px rgba(60, 64, 67, 0.15);\n",
              "      fill: #174EA6;\n",
              "    }\n",
              "\n",
              "    [theme=dark] .colab-df-convert {\n",
              "      background-color: #3B4455;\n",
              "      fill: #D2E3FC;\n",
              "    }\n",
              "\n",
              "    [theme=dark] .colab-df-convert:hover {\n",
              "      background-color: #434B5C;\n",
              "      box-shadow: 0px 1px 3px 1px rgba(0, 0, 0, 0.15);\n",
              "      filter: drop-shadow(0px 1px 2px rgba(0, 0, 0, 0.3));\n",
              "      fill: #FFFFFF;\n",
              "    }\n",
              "  </style>\n",
              "\n",
              "      <script>\n",
              "        const buttonEl =\n",
              "          document.querySelector('#df-5c2ad87c-016a-4812-bb57-52095c91bafd button.colab-df-convert');\n",
              "        buttonEl.style.display =\n",
              "          google.colab.kernel.accessAllowed ? 'block' : 'none';\n",
              "\n",
              "        async function convertToInteractive(key) {\n",
              "          const element = document.querySelector('#df-5c2ad87c-016a-4812-bb57-52095c91bafd');\n",
              "          const dataTable =\n",
              "            await google.colab.kernel.invokeFunction('convertToInteractive',\n",
              "                                                     [key], {});\n",
              "          if (!dataTable) return;\n",
              "\n",
              "          const docLinkHtml = 'Like what you see? Visit the ' +\n",
              "            '<a target=\"_blank\" href=https://colab.research.google.com/notebooks/data_table.ipynb>data table notebook</a>'\n",
              "            + ' to learn more about interactive tables.';\n",
              "          element.innerHTML = '';\n",
              "          dataTable['output_type'] = 'display_data';\n",
              "          await google.colab.output.renderOutput(dataTable, element);\n",
              "          const docLink = document.createElement('div');\n",
              "          docLink.innerHTML = docLinkHtml;\n",
              "          element.appendChild(docLink);\n",
              "        }\n",
              "      </script>\n",
              "    </div>\n",
              "  </div>\n",
              "  "
            ]
          },
          "metadata": {},
          "execution_count": 12
        }
      ],
      "source": [
        "#label positif (1) dan negatif (0)\n",
        "label = []\n",
        "for index, row in data.iterrows():\n",
        "  if row[\"score\"] >= 4 :\n",
        "    label.append(\"1\")\n",
        "  else:\n",
        "    label.append(\"0\")\n",
        "\n",
        "data[\"Label\"] = label\n",
        "data.head()"
      ]
    },
    {
      "cell_type": "code",
      "execution_count": null,
      "metadata": {
        "id": "kf1hzYfdjthm",
        "colab": {
          "base_uri": "https://localhost:8080/",
          "height": 206
        },
        "outputId": "6b7480a1-61ab-42db-9a0b-065a8f15ff51"
      },
      "outputs": [
        {
          "output_type": "execute_result",
          "data": {
            "text/plain": [
              "                    at                                            content  \\\n",
              "0  2023-06-19 11:02:18                                      murah bangett   \n",
              "1  2023-06-06 12:26:51  Cs nya tidak mau balas balas chatku. Padahal i...   \n",
              "2  2023-06-04 04:32:19                                                 MB   \n",
              "3  2023-05-16 23:04:46  Aplikasi sampah. Isi saldo pake transfer bank ...   \n",
              "4  2023-02-28 14:37:12         Aplikasi worth it buat yg mau jualan pulsa   \n",
              "\n",
              "   score Label  \n",
              "0      5     1  \n",
              "1      1     0  \n",
              "2      5     1  \n",
              "3      1     0  \n",
              "4      5     1  "
            ],
            "text/html": [
              "\n",
              "  <div id=\"df-db0fc8aa-291f-4ae4-b045-3d3ad7a72be1\">\n",
              "    <div class=\"colab-df-container\">\n",
              "      <div>\n",
              "<style scoped>\n",
              "    .dataframe tbody tr th:only-of-type {\n",
              "        vertical-align: middle;\n",
              "    }\n",
              "\n",
              "    .dataframe tbody tr th {\n",
              "        vertical-align: top;\n",
              "    }\n",
              "\n",
              "    .dataframe thead th {\n",
              "        text-align: right;\n",
              "    }\n",
              "</style>\n",
              "<table border=\"1\" class=\"dataframe\">\n",
              "  <thead>\n",
              "    <tr style=\"text-align: right;\">\n",
              "      <th></th>\n",
              "      <th>at</th>\n",
              "      <th>content</th>\n",
              "      <th>score</th>\n",
              "      <th>Label</th>\n",
              "    </tr>\n",
              "  </thead>\n",
              "  <tbody>\n",
              "    <tr>\n",
              "      <th>0</th>\n",
              "      <td>2023-06-19 11:02:18</td>\n",
              "      <td>murah bangett</td>\n",
              "      <td>5</td>\n",
              "      <td>1</td>\n",
              "    </tr>\n",
              "    <tr>\n",
              "      <th>1</th>\n",
              "      <td>2023-06-06 12:26:51</td>\n",
              "      <td>Cs nya tidak mau balas balas chatku. Padahal i...</td>\n",
              "      <td>1</td>\n",
              "      <td>0</td>\n",
              "    </tr>\n",
              "    <tr>\n",
              "      <th>2</th>\n",
              "      <td>2023-06-04 04:32:19</td>\n",
              "      <td>MB</td>\n",
              "      <td>5</td>\n",
              "      <td>1</td>\n",
              "    </tr>\n",
              "    <tr>\n",
              "      <th>3</th>\n",
              "      <td>2023-05-16 23:04:46</td>\n",
              "      <td>Aplikasi sampah. Isi saldo pake transfer bank ...</td>\n",
              "      <td>1</td>\n",
              "      <td>0</td>\n",
              "    </tr>\n",
              "    <tr>\n",
              "      <th>4</th>\n",
              "      <td>2023-02-28 14:37:12</td>\n",
              "      <td>Aplikasi worth it buat yg mau jualan pulsa</td>\n",
              "      <td>5</td>\n",
              "      <td>1</td>\n",
              "    </tr>\n",
              "  </tbody>\n",
              "</table>\n",
              "</div>\n",
              "      <button class=\"colab-df-convert\" onclick=\"convertToInteractive('df-db0fc8aa-291f-4ae4-b045-3d3ad7a72be1')\"\n",
              "              title=\"Convert this dataframe to an interactive table.\"\n",
              "              style=\"display:none;\">\n",
              "        \n",
              "  <svg xmlns=\"http://www.w3.org/2000/svg\" height=\"24px\"viewBox=\"0 0 24 24\"\n",
              "       width=\"24px\">\n",
              "    <path d=\"M0 0h24v24H0V0z\" fill=\"none\"/>\n",
              "    <path d=\"M18.56 5.44l.94 2.06.94-2.06 2.06-.94-2.06-.94-.94-2.06-.94 2.06-2.06.94zm-11 1L8.5 8.5l.94-2.06 2.06-.94-2.06-.94L8.5 2.5l-.94 2.06-2.06.94zm10 10l.94 2.06.94-2.06 2.06-.94-2.06-.94-.94-2.06-.94 2.06-2.06.94z\"/><path d=\"M17.41 7.96l-1.37-1.37c-.4-.4-.92-.59-1.43-.59-.52 0-1.04.2-1.43.59L10.3 9.45l-7.72 7.72c-.78.78-.78 2.05 0 2.83L4 21.41c.39.39.9.59 1.41.59.51 0 1.02-.2 1.41-.59l7.78-7.78 2.81-2.81c.8-.78.8-2.07 0-2.86zM5.41 20L4 18.59l7.72-7.72 1.47 1.35L5.41 20z\"/>\n",
              "  </svg>\n",
              "      </button>\n",
              "      \n",
              "  <style>\n",
              "    .colab-df-container {\n",
              "      display:flex;\n",
              "      flex-wrap:wrap;\n",
              "      gap: 12px;\n",
              "    }\n",
              "\n",
              "    .colab-df-convert {\n",
              "      background-color: #E8F0FE;\n",
              "      border: none;\n",
              "      border-radius: 50%;\n",
              "      cursor: pointer;\n",
              "      display: none;\n",
              "      fill: #1967D2;\n",
              "      height: 32px;\n",
              "      padding: 0 0 0 0;\n",
              "      width: 32px;\n",
              "    }\n",
              "\n",
              "    .colab-df-convert:hover {\n",
              "      background-color: #E2EBFA;\n",
              "      box-shadow: 0px 1px 2px rgba(60, 64, 67, 0.3), 0px 1px 3px 1px rgba(60, 64, 67, 0.15);\n",
              "      fill: #174EA6;\n",
              "    }\n",
              "\n",
              "    [theme=dark] .colab-df-convert {\n",
              "      background-color: #3B4455;\n",
              "      fill: #D2E3FC;\n",
              "    }\n",
              "\n",
              "    [theme=dark] .colab-df-convert:hover {\n",
              "      background-color: #434B5C;\n",
              "      box-shadow: 0px 1px 3px 1px rgba(0, 0, 0, 0.15);\n",
              "      filter: drop-shadow(0px 1px 2px rgba(0, 0, 0, 0.3));\n",
              "      fill: #FFFFFF;\n",
              "    }\n",
              "  </style>\n",
              "\n",
              "      <script>\n",
              "        const buttonEl =\n",
              "          document.querySelector('#df-db0fc8aa-291f-4ae4-b045-3d3ad7a72be1 button.colab-df-convert');\n",
              "        buttonEl.style.display =\n",
              "          google.colab.kernel.accessAllowed ? 'block' : 'none';\n",
              "\n",
              "        async function convertToInteractive(key) {\n",
              "          const element = document.querySelector('#df-db0fc8aa-291f-4ae4-b045-3d3ad7a72be1');\n",
              "          const dataTable =\n",
              "            await google.colab.kernel.invokeFunction('convertToInteractive',\n",
              "                                                     [key], {});\n",
              "          if (!dataTable) return;\n",
              "\n",
              "          const docLinkHtml = 'Like what you see? Visit the ' +\n",
              "            '<a target=\"_blank\" href=https://colab.research.google.com/notebooks/data_table.ipynb>data table notebook</a>'\n",
              "            + ' to learn more about interactive tables.';\n",
              "          element.innerHTML = '';\n",
              "          dataTable['output_type'] = 'display_data';\n",
              "          await google.colab.output.renderOutput(dataTable, element);\n",
              "          const docLink = document.createElement('div');\n",
              "          docLink.innerHTML = docLinkHtml;\n",
              "          element.appendChild(docLink);\n",
              "        }\n",
              "      </script>\n",
              "    </div>\n",
              "  </div>\n",
              "  "
            ]
          },
          "metadata": {},
          "execution_count": 13
        }
      ],
      "source": [
        "data = data[[\"at\", \"content\", \"score\", \"Label\"]]\n",
        "data = data.dropna()\n",
        "data.head()"
      ]
    },
    {
      "cell_type": "code",
      "execution_count": null,
      "metadata": {
        "id": "zBWLj8vAjd6a"
      },
      "outputs": [],
      "source": [
        "#menghapus karakter selain huruf\n",
        "def hapus_karakter_selain_huruf(text):\n",
        "  for sp in string.punctuation:\n",
        "    text = text.replace(sp, \" \")\n",
        "    text = text.replace('\\\\t',\" \").replace('\\\\n',\" \").replace('\\\\u',\" \").replace('\\\\',\"\")\n",
        "    text = text.encode('ascii', 'replace').decode('ascii')\n",
        "    text = ' '.join(re.sub(\"([@#][A-Za-z0-9]+)|(\\w+:\\/\\/\\S+)\",\" \", text).split())\n",
        "    text = re.sub(r\"\\d+\",\"\",text) #hapus angka\n",
        "  return text.replace('/\\s\\s+/g', ' ')\n",
        "data['content'] = data['content'].apply(hapus_karakter_selain_huruf)"
      ]
    },
    {
      "cell_type": "code",
      "execution_count": null,
      "metadata": {
        "id": "ce8E5-irjokN"
      },
      "outputs": [],
      "source": [
        "#mengubah seluruh huruf menjadi huruf kecil\n",
        "data[\"content\"] = data[\"content\"].str.lower()"
      ]
    },
    {
      "cell_type": "code",
      "source": [
        "#memecah string kedalam tokens (penggalan kata)\n",
        "nltk.download('punkt')\n",
        "\n",
        "def word_tokenize_wrapper(text):\n",
        "    return word_tokenize(text)\n",
        "\n",
        "data['content'] = data['content'].apply(word_tokenize_wrapper)\n",
        "\n",
        "data.head()"
      ],
      "metadata": {
        "colab": {
          "base_uri": "https://localhost:8080/",
          "height": 241
        },
        "id": "Ha0aOblg7gMS",
        "outputId": "7034be58-e815-4670-ab84-bb41287e859b"
      },
      "execution_count": null,
      "outputs": [
        {
          "output_type": "stream",
          "name": "stderr",
          "text": [
            "[nltk_data] Downloading package punkt to /root/nltk_data...\n",
            "[nltk_data]   Unzipping tokenizers/punkt.zip.\n"
          ]
        },
        {
          "output_type": "execute_result",
          "data": {
            "text/plain": [
              "                    at                                            content  \\\n",
              "0  2023-06-19 11:02:18                                   [murah, bangett]   \n",
              "1  2023-06-06 12:26:51  [cs, nya, tidak, mau, balas, balas, chatku, pa...   \n",
              "2  2023-06-04 04:32:19                                               [mb]   \n",
              "3  2023-05-16 23:04:46  [aplikasi, sampah, isi, saldo, pake, transfer,...   \n",
              "4  2023-02-28 14:37:12  [aplikasi, worth, it, buat, yg, mau, jualan, p...   \n",
              "\n",
              "   score Label  \n",
              "0      5     1  \n",
              "1      1     0  \n",
              "2      5     1  \n",
              "3      1     0  \n",
              "4      5     1  "
            ],
            "text/html": [
              "\n",
              "  <div id=\"df-d8b85010-2172-4f87-a557-d6065ef2e2ac\">\n",
              "    <div class=\"colab-df-container\">\n",
              "      <div>\n",
              "<style scoped>\n",
              "    .dataframe tbody tr th:only-of-type {\n",
              "        vertical-align: middle;\n",
              "    }\n",
              "\n",
              "    .dataframe tbody tr th {\n",
              "        vertical-align: top;\n",
              "    }\n",
              "\n",
              "    .dataframe thead th {\n",
              "        text-align: right;\n",
              "    }\n",
              "</style>\n",
              "<table border=\"1\" class=\"dataframe\">\n",
              "  <thead>\n",
              "    <tr style=\"text-align: right;\">\n",
              "      <th></th>\n",
              "      <th>at</th>\n",
              "      <th>content</th>\n",
              "      <th>score</th>\n",
              "      <th>Label</th>\n",
              "    </tr>\n",
              "  </thead>\n",
              "  <tbody>\n",
              "    <tr>\n",
              "      <th>0</th>\n",
              "      <td>2023-06-19 11:02:18</td>\n",
              "      <td>[murah, bangett]</td>\n",
              "      <td>5</td>\n",
              "      <td>1</td>\n",
              "    </tr>\n",
              "    <tr>\n",
              "      <th>1</th>\n",
              "      <td>2023-06-06 12:26:51</td>\n",
              "      <td>[cs, nya, tidak, mau, balas, balas, chatku, pa...</td>\n",
              "      <td>1</td>\n",
              "      <td>0</td>\n",
              "    </tr>\n",
              "    <tr>\n",
              "      <th>2</th>\n",
              "      <td>2023-06-04 04:32:19</td>\n",
              "      <td>[mb]</td>\n",
              "      <td>5</td>\n",
              "      <td>1</td>\n",
              "    </tr>\n",
              "    <tr>\n",
              "      <th>3</th>\n",
              "      <td>2023-05-16 23:04:46</td>\n",
              "      <td>[aplikasi, sampah, isi, saldo, pake, transfer,...</td>\n",
              "      <td>1</td>\n",
              "      <td>0</td>\n",
              "    </tr>\n",
              "    <tr>\n",
              "      <th>4</th>\n",
              "      <td>2023-02-28 14:37:12</td>\n",
              "      <td>[aplikasi, worth, it, buat, yg, mau, jualan, p...</td>\n",
              "      <td>5</td>\n",
              "      <td>1</td>\n",
              "    </tr>\n",
              "  </tbody>\n",
              "</table>\n",
              "</div>\n",
              "      <button class=\"colab-df-convert\" onclick=\"convertToInteractive('df-d8b85010-2172-4f87-a557-d6065ef2e2ac')\"\n",
              "              title=\"Convert this dataframe to an interactive table.\"\n",
              "              style=\"display:none;\">\n",
              "        \n",
              "  <svg xmlns=\"http://www.w3.org/2000/svg\" height=\"24px\"viewBox=\"0 0 24 24\"\n",
              "       width=\"24px\">\n",
              "    <path d=\"M0 0h24v24H0V0z\" fill=\"none\"/>\n",
              "    <path d=\"M18.56 5.44l.94 2.06.94-2.06 2.06-.94-2.06-.94-.94-2.06-.94 2.06-2.06.94zm-11 1L8.5 8.5l.94-2.06 2.06-.94-2.06-.94L8.5 2.5l-.94 2.06-2.06.94zm10 10l.94 2.06.94-2.06 2.06-.94-2.06-.94-.94-2.06-.94 2.06-2.06.94z\"/><path d=\"M17.41 7.96l-1.37-1.37c-.4-.4-.92-.59-1.43-.59-.52 0-1.04.2-1.43.59L10.3 9.45l-7.72 7.72c-.78.78-.78 2.05 0 2.83L4 21.41c.39.39.9.59 1.41.59.51 0 1.02-.2 1.41-.59l7.78-7.78 2.81-2.81c.8-.78.8-2.07 0-2.86zM5.41 20L4 18.59l7.72-7.72 1.47 1.35L5.41 20z\"/>\n",
              "  </svg>\n",
              "      </button>\n",
              "      \n",
              "  <style>\n",
              "    .colab-df-container {\n",
              "      display:flex;\n",
              "      flex-wrap:wrap;\n",
              "      gap: 12px;\n",
              "    }\n",
              "\n",
              "    .colab-df-convert {\n",
              "      background-color: #E8F0FE;\n",
              "      border: none;\n",
              "      border-radius: 50%;\n",
              "      cursor: pointer;\n",
              "      display: none;\n",
              "      fill: #1967D2;\n",
              "      height: 32px;\n",
              "      padding: 0 0 0 0;\n",
              "      width: 32px;\n",
              "    }\n",
              "\n",
              "    .colab-df-convert:hover {\n",
              "      background-color: #E2EBFA;\n",
              "      box-shadow: 0px 1px 2px rgba(60, 64, 67, 0.3), 0px 1px 3px 1px rgba(60, 64, 67, 0.15);\n",
              "      fill: #174EA6;\n",
              "    }\n",
              "\n",
              "    [theme=dark] .colab-df-convert {\n",
              "      background-color: #3B4455;\n",
              "      fill: #D2E3FC;\n",
              "    }\n",
              "\n",
              "    [theme=dark] .colab-df-convert:hover {\n",
              "      background-color: #434B5C;\n",
              "      box-shadow: 0px 1px 3px 1px rgba(0, 0, 0, 0.15);\n",
              "      filter: drop-shadow(0px 1px 2px rgba(0, 0, 0, 0.3));\n",
              "      fill: #FFFFFF;\n",
              "    }\n",
              "  </style>\n",
              "\n",
              "      <script>\n",
              "        const buttonEl =\n",
              "          document.querySelector('#df-d8b85010-2172-4f87-a557-d6065ef2e2ac button.colab-df-convert');\n",
              "        buttonEl.style.display =\n",
              "          google.colab.kernel.accessAllowed ? 'block' : 'none';\n",
              "\n",
              "        async function convertToInteractive(key) {\n",
              "          const element = document.querySelector('#df-d8b85010-2172-4f87-a557-d6065ef2e2ac');\n",
              "          const dataTable =\n",
              "            await google.colab.kernel.invokeFunction('convertToInteractive',\n",
              "                                                     [key], {});\n",
              "          if (!dataTable) return;\n",
              "\n",
              "          const docLinkHtml = 'Like what you see? Visit the ' +\n",
              "            '<a target=\"_blank\" href=https://colab.research.google.com/notebooks/data_table.ipynb>data table notebook</a>'\n",
              "            + ' to learn more about interactive tables.';\n",
              "          element.innerHTML = '';\n",
              "          dataTable['output_type'] = 'display_data';\n",
              "          await google.colab.output.renderOutput(dataTable, element);\n",
              "          const docLink = document.createElement('div');\n",
              "          docLink.innerHTML = docLinkHtml;\n",
              "          element.appendChild(docLink);\n",
              "        }\n",
              "      </script>\n",
              "    </div>\n",
              "  </div>\n",
              "  "
            ]
          },
          "metadata": {},
          "execution_count": 16
        }
      ]
    },
    {
      "cell_type": "code",
      "source": [
        "#menghitung frekuensi distribusi token di setiap row\n",
        "def freqDist_wrapper(text):\n",
        "    return FreqDist(text)\n",
        "\n",
        "data['content'] = data['content'].apply(freqDist_wrapper)\n",
        "\n",
        "print('Frequency Tokens : \\n')\n",
        "print(data['content'].head().apply(lambda x : x.most_common()))"
      ],
      "metadata": {
        "colab": {
          "base_uri": "https://localhost:8080/"
        },
        "id": "DzOr3e1u_z0Z",
        "outputId": "0ebd815b-c122-4a8e-9302-b50027b7f635"
      },
      "execution_count": null,
      "outputs": [
        {
          "output_type": "stream",
          "name": "stdout",
          "text": [
            "Frequency Tokens : \n",
            "\n",
            "0                           [(murah, 1), (bangett, 1)]\n",
            "1    [(balas, 2), (cs, 1), (nya, 1), (tidak, 1), (m...\n",
            "2                                            [(mb, 1)]\n",
            "3    [(aplikasi, 1), (sampah, 1), (isi, 1), (saldo,...\n",
            "4    [(aplikasi, 1), (worth, 1), (it, 1), (buat, 1)...\n",
            "Name: content, dtype: object\n"
          ]
        }
      ]
    },
    {
      "cell_type": "code",
      "source": [
        "list_stw = pd.read_csv('/content/list_stopword.csv')"
      ],
      "metadata": {
        "id": "OmTBtWSy7lcA",
        "colab": {
          "base_uri": "https://localhost:8080/",
          "height": 311
        },
        "outputId": "15b46882-18ec-416e-f0cf-194edb7ffe5f"
      },
      "execution_count": null,
      "outputs": [
        {
          "output_type": "error",
          "ename": "FileNotFoundError",
          "evalue": "ignored",
          "traceback": [
            "\u001b[0;31m---------------------------------------------------------------------------\u001b[0m",
            "\u001b[0;31mFileNotFoundError\u001b[0m                         Traceback (most recent call last)",
            "\u001b[0;32m<ipython-input-18-35e097df17da>\u001b[0m in \u001b[0;36m<cell line: 1>\u001b[0;34m()\u001b[0m\n\u001b[0;32m----> 1\u001b[0;31m \u001b[0mlist_stw\u001b[0m \u001b[0;34m=\u001b[0m \u001b[0mpd\u001b[0m\u001b[0;34m.\u001b[0m\u001b[0mread_csv\u001b[0m\u001b[0;34m(\u001b[0m\u001b[0;34m'/content/list_stopword.csv'\u001b[0m\u001b[0;34m)\u001b[0m\u001b[0;34m\u001b[0m\u001b[0;34m\u001b[0m\u001b[0m\n\u001b[0m",
            "\u001b[0;32m/usr/local/lib/python3.10/dist-packages/pandas/util/_decorators.py\u001b[0m in \u001b[0;36mwrapper\u001b[0;34m(*args, **kwargs)\u001b[0m\n\u001b[1;32m    209\u001b[0m                 \u001b[0;32melse\u001b[0m\u001b[0;34m:\u001b[0m\u001b[0;34m\u001b[0m\u001b[0;34m\u001b[0m\u001b[0m\n\u001b[1;32m    210\u001b[0m                     \u001b[0mkwargs\u001b[0m\u001b[0;34m[\u001b[0m\u001b[0mnew_arg_name\u001b[0m\u001b[0;34m]\u001b[0m \u001b[0;34m=\u001b[0m \u001b[0mnew_arg_value\u001b[0m\u001b[0;34m\u001b[0m\u001b[0;34m\u001b[0m\u001b[0m\n\u001b[0;32m--> 211\u001b[0;31m             \u001b[0;32mreturn\u001b[0m \u001b[0mfunc\u001b[0m\u001b[0;34m(\u001b[0m\u001b[0;34m*\u001b[0m\u001b[0margs\u001b[0m\u001b[0;34m,\u001b[0m \u001b[0;34m**\u001b[0m\u001b[0mkwargs\u001b[0m\u001b[0;34m)\u001b[0m\u001b[0;34m\u001b[0m\u001b[0;34m\u001b[0m\u001b[0m\n\u001b[0m\u001b[1;32m    212\u001b[0m \u001b[0;34m\u001b[0m\u001b[0m\n\u001b[1;32m    213\u001b[0m         \u001b[0;32mreturn\u001b[0m \u001b[0mcast\u001b[0m\u001b[0;34m(\u001b[0m\u001b[0mF\u001b[0m\u001b[0;34m,\u001b[0m \u001b[0mwrapper\u001b[0m\u001b[0;34m)\u001b[0m\u001b[0;34m\u001b[0m\u001b[0;34m\u001b[0m\u001b[0m\n",
            "\u001b[0;32m/usr/local/lib/python3.10/dist-packages/pandas/util/_decorators.py\u001b[0m in \u001b[0;36mwrapper\u001b[0;34m(*args, **kwargs)\u001b[0m\n\u001b[1;32m    329\u001b[0m                     \u001b[0mstacklevel\u001b[0m\u001b[0;34m=\u001b[0m\u001b[0mfind_stack_level\u001b[0m\u001b[0;34m(\u001b[0m\u001b[0;34m)\u001b[0m\u001b[0;34m,\u001b[0m\u001b[0;34m\u001b[0m\u001b[0;34m\u001b[0m\u001b[0m\n\u001b[1;32m    330\u001b[0m                 )\n\u001b[0;32m--> 331\u001b[0;31m             \u001b[0;32mreturn\u001b[0m \u001b[0mfunc\u001b[0m\u001b[0;34m(\u001b[0m\u001b[0;34m*\u001b[0m\u001b[0margs\u001b[0m\u001b[0;34m,\u001b[0m \u001b[0;34m**\u001b[0m\u001b[0mkwargs\u001b[0m\u001b[0;34m)\u001b[0m\u001b[0;34m\u001b[0m\u001b[0;34m\u001b[0m\u001b[0m\n\u001b[0m\u001b[1;32m    332\u001b[0m \u001b[0;34m\u001b[0m\u001b[0m\n\u001b[1;32m    333\u001b[0m         \u001b[0;31m# error: \"Callable[[VarArg(Any), KwArg(Any)], Any]\" has no\u001b[0m\u001b[0;34m\u001b[0m\u001b[0;34m\u001b[0m\u001b[0m\n",
            "\u001b[0;32m/usr/local/lib/python3.10/dist-packages/pandas/io/parsers/readers.py\u001b[0m in \u001b[0;36mread_csv\u001b[0;34m(filepath_or_buffer, sep, delimiter, header, names, index_col, usecols, squeeze, prefix, mangle_dupe_cols, dtype, engine, converters, true_values, false_values, skipinitialspace, skiprows, skipfooter, nrows, na_values, keep_default_na, na_filter, verbose, skip_blank_lines, parse_dates, infer_datetime_format, keep_date_col, date_parser, dayfirst, cache_dates, iterator, chunksize, compression, thousands, decimal, lineterminator, quotechar, quoting, doublequote, escapechar, comment, encoding, encoding_errors, dialect, error_bad_lines, warn_bad_lines, on_bad_lines, delim_whitespace, low_memory, memory_map, float_precision, storage_options)\u001b[0m\n\u001b[1;32m    948\u001b[0m     \u001b[0mkwds\u001b[0m\u001b[0;34m.\u001b[0m\u001b[0mupdate\u001b[0m\u001b[0;34m(\u001b[0m\u001b[0mkwds_defaults\u001b[0m\u001b[0;34m)\u001b[0m\u001b[0;34m\u001b[0m\u001b[0;34m\u001b[0m\u001b[0m\n\u001b[1;32m    949\u001b[0m \u001b[0;34m\u001b[0m\u001b[0m\n\u001b[0;32m--> 950\u001b[0;31m     \u001b[0;32mreturn\u001b[0m \u001b[0m_read\u001b[0m\u001b[0;34m(\u001b[0m\u001b[0mfilepath_or_buffer\u001b[0m\u001b[0;34m,\u001b[0m \u001b[0mkwds\u001b[0m\u001b[0;34m)\u001b[0m\u001b[0;34m\u001b[0m\u001b[0;34m\u001b[0m\u001b[0m\n\u001b[0m\u001b[1;32m    951\u001b[0m \u001b[0;34m\u001b[0m\u001b[0m\n\u001b[1;32m    952\u001b[0m \u001b[0;34m\u001b[0m\u001b[0m\n",
            "\u001b[0;32m/usr/local/lib/python3.10/dist-packages/pandas/io/parsers/readers.py\u001b[0m in \u001b[0;36m_read\u001b[0;34m(filepath_or_buffer, kwds)\u001b[0m\n\u001b[1;32m    603\u001b[0m \u001b[0;34m\u001b[0m\u001b[0m\n\u001b[1;32m    604\u001b[0m     \u001b[0;31m# Create the parser.\u001b[0m\u001b[0;34m\u001b[0m\u001b[0;34m\u001b[0m\u001b[0m\n\u001b[0;32m--> 605\u001b[0;31m     \u001b[0mparser\u001b[0m \u001b[0;34m=\u001b[0m \u001b[0mTextFileReader\u001b[0m\u001b[0;34m(\u001b[0m\u001b[0mfilepath_or_buffer\u001b[0m\u001b[0;34m,\u001b[0m \u001b[0;34m**\u001b[0m\u001b[0mkwds\u001b[0m\u001b[0;34m)\u001b[0m\u001b[0;34m\u001b[0m\u001b[0;34m\u001b[0m\u001b[0m\n\u001b[0m\u001b[1;32m    606\u001b[0m \u001b[0;34m\u001b[0m\u001b[0m\n\u001b[1;32m    607\u001b[0m     \u001b[0;32mif\u001b[0m \u001b[0mchunksize\u001b[0m \u001b[0;32mor\u001b[0m \u001b[0miterator\u001b[0m\u001b[0;34m:\u001b[0m\u001b[0;34m\u001b[0m\u001b[0;34m\u001b[0m\u001b[0m\n",
            "\u001b[0;32m/usr/local/lib/python3.10/dist-packages/pandas/io/parsers/readers.py\u001b[0m in \u001b[0;36m__init__\u001b[0;34m(self, f, engine, **kwds)\u001b[0m\n\u001b[1;32m   1440\u001b[0m \u001b[0;34m\u001b[0m\u001b[0m\n\u001b[1;32m   1441\u001b[0m         \u001b[0mself\u001b[0m\u001b[0;34m.\u001b[0m\u001b[0mhandles\u001b[0m\u001b[0;34m:\u001b[0m \u001b[0mIOHandles\u001b[0m \u001b[0;34m|\u001b[0m \u001b[0;32mNone\u001b[0m \u001b[0;34m=\u001b[0m \u001b[0;32mNone\u001b[0m\u001b[0;34m\u001b[0m\u001b[0;34m\u001b[0m\u001b[0m\n\u001b[0;32m-> 1442\u001b[0;31m         \u001b[0mself\u001b[0m\u001b[0;34m.\u001b[0m\u001b[0m_engine\u001b[0m \u001b[0;34m=\u001b[0m \u001b[0mself\u001b[0m\u001b[0;34m.\u001b[0m\u001b[0m_make_engine\u001b[0m\u001b[0;34m(\u001b[0m\u001b[0mf\u001b[0m\u001b[0;34m,\u001b[0m \u001b[0mself\u001b[0m\u001b[0;34m.\u001b[0m\u001b[0mengine\u001b[0m\u001b[0;34m)\u001b[0m\u001b[0;34m\u001b[0m\u001b[0;34m\u001b[0m\u001b[0m\n\u001b[0m\u001b[1;32m   1443\u001b[0m \u001b[0;34m\u001b[0m\u001b[0m\n\u001b[1;32m   1444\u001b[0m     \u001b[0;32mdef\u001b[0m \u001b[0mclose\u001b[0m\u001b[0;34m(\u001b[0m\u001b[0mself\u001b[0m\u001b[0;34m)\u001b[0m \u001b[0;34m->\u001b[0m \u001b[0;32mNone\u001b[0m\u001b[0;34m:\u001b[0m\u001b[0;34m\u001b[0m\u001b[0;34m\u001b[0m\u001b[0m\n",
            "\u001b[0;32m/usr/local/lib/python3.10/dist-packages/pandas/io/parsers/readers.py\u001b[0m in \u001b[0;36m_make_engine\u001b[0;34m(self, f, engine)\u001b[0m\n\u001b[1;32m   1733\u001b[0m                 \u001b[0;32mif\u001b[0m \u001b[0;34m\"b\"\u001b[0m \u001b[0;32mnot\u001b[0m \u001b[0;32min\u001b[0m \u001b[0mmode\u001b[0m\u001b[0;34m:\u001b[0m\u001b[0;34m\u001b[0m\u001b[0;34m\u001b[0m\u001b[0m\n\u001b[1;32m   1734\u001b[0m                     \u001b[0mmode\u001b[0m \u001b[0;34m+=\u001b[0m \u001b[0;34m\"b\"\u001b[0m\u001b[0;34m\u001b[0m\u001b[0;34m\u001b[0m\u001b[0m\n\u001b[0;32m-> 1735\u001b[0;31m             self.handles = get_handle(\n\u001b[0m\u001b[1;32m   1736\u001b[0m                 \u001b[0mf\u001b[0m\u001b[0;34m,\u001b[0m\u001b[0;34m\u001b[0m\u001b[0;34m\u001b[0m\u001b[0m\n\u001b[1;32m   1737\u001b[0m                 \u001b[0mmode\u001b[0m\u001b[0;34m,\u001b[0m\u001b[0;34m\u001b[0m\u001b[0;34m\u001b[0m\u001b[0m\n",
            "\u001b[0;32m/usr/local/lib/python3.10/dist-packages/pandas/io/common.py\u001b[0m in \u001b[0;36mget_handle\u001b[0;34m(path_or_buf, mode, encoding, compression, memory_map, is_text, errors, storage_options)\u001b[0m\n\u001b[1;32m    854\u001b[0m         \u001b[0;32mif\u001b[0m \u001b[0mioargs\u001b[0m\u001b[0;34m.\u001b[0m\u001b[0mencoding\u001b[0m \u001b[0;32mand\u001b[0m \u001b[0;34m\"b\"\u001b[0m \u001b[0;32mnot\u001b[0m \u001b[0;32min\u001b[0m \u001b[0mioargs\u001b[0m\u001b[0;34m.\u001b[0m\u001b[0mmode\u001b[0m\u001b[0;34m:\u001b[0m\u001b[0;34m\u001b[0m\u001b[0;34m\u001b[0m\u001b[0m\n\u001b[1;32m    855\u001b[0m             \u001b[0;31m# Encoding\u001b[0m\u001b[0;34m\u001b[0m\u001b[0;34m\u001b[0m\u001b[0m\n\u001b[0;32m--> 856\u001b[0;31m             handle = open(\n\u001b[0m\u001b[1;32m    857\u001b[0m                 \u001b[0mhandle\u001b[0m\u001b[0;34m,\u001b[0m\u001b[0;34m\u001b[0m\u001b[0;34m\u001b[0m\u001b[0m\n\u001b[1;32m    858\u001b[0m                 \u001b[0mioargs\u001b[0m\u001b[0;34m.\u001b[0m\u001b[0mmode\u001b[0m\u001b[0;34m,\u001b[0m\u001b[0;34m\u001b[0m\u001b[0;34m\u001b[0m\u001b[0m\n",
            "\u001b[0;31mFileNotFoundError\u001b[0m: [Errno 2] No such file or directory: '/content/list_stopword.csv'"
          ]
        }
      ]
    },
    {
      "cell_type": "code",
      "source": [
        "list_stw = list_stw['list'].tolist()\n",
        "list_stw"
      ],
      "metadata": {
        "id": "hn_jre6hDGah"
      },
      "execution_count": null,
      "outputs": []
    },
    {
      "cell_type": "code",
      "source": [
        "nltk.download('stopwords')\n",
        "\n",
        "list_stopwords = stopwords.words('indonesian')\n",
        "\n",
        "list_stopwords.extend([\"yg\", \"dg\", \"rt\", \"dgn\", \"ny\", \"d\", 'klo', 'kalo', 'amp', 'biar', 'bikin', 'bilang',\n",
        "                       'gak', 'ga', 'gk', 'krn', 'nya', 'nih', 'sih', 'si', 'tau', 'tdk', 'tuh', 'utk', 'ya',\n",
        "                       'jd', 'jgn', 'sdh', 'aja', 'n', 't', 'nyg', 'hehe', 'pen', 'u', 'nan', 'loh', 'rt',\n",
        "                       '&amp', 'yah', 'deh', 'dll', '&', 'dah', 'pake', 'eh', 'aplikasi', 'gaj',\n",
        "                       'nyeri', 'otot', 'pinggang', 'badan', 'gel', 'linu', 'semenjak', 'gimana',\n",
        "                       'rumah', 'apk', 'udh', 'bang', 'beli', 'bangbeli', 'banget', 'pakai',\n",
        "                       'ada', 'bgt', 'banget' 'adalah','adanya','adapun','agak',\n",
        "                       'agaknya','agar','akan','akankah','akhir','akhiri','akhirnya',\n",
        "                       'aku','akulah','amat','amatlah','anda','andalah','antar',\n",
        "                       'antara','antaranya','apa','apaan','apabila','apakah','apalagi',\n",
        "                       'apatah','artinya','asal','asalkan','atas','atau','ataukah',\n",
        "                       'ataupun','awal','awalnya','bagai','bagaikan','bagaimana','bagaimanakah','bagaimanapun',\n",
        "                       'bagi','bagian','bahkan','bahwa','bahwasanya','bakal','bakalan','balik','banyak',\n",
        "                       'bapak','baru','bawah','beberapa','begini','beginian','beginikah','beginilah',\n",
        "                       'begitu','begitukah','begitulah','begitupun','bekerja','belakang','belakangan','belum','belumlah',\n",
        "                       'benar','benarkah','benarlah','berada','berakhir','berakhirlah','berakhirnya','berapa','berapakah',\n",
        "                       'berapalah','berapapun','berarti','berawal','berbagai','berdatangan','beri','berikan','berikut',\n",
        "                       'berikutnya','berjumlah','berkali-kali','berkata','berkehendak','berkeinginan','berkenaan',\n",
        "                       'berlainan','berlalu','berlangsung','berlebihan', 'udah', 'bantu',\"bantu`\", \"tolong`\",'udah`',\n",
        "                       'bermacam','bermacam-macam','bermaksud','bermula','bersama','bersama-sama','bersiap','bersiap-siap',\n",
        "                       'bertanya','bertanya-tanya','berturut','berturut-turut','bertutur','berujar','berupa','besar','betul',\n",
        "                       'betulkah','biasa','biasanya','bila','bilakah','bisa','bisakah','boleh','bolehkah','bolehlah','buat',\n",
        "                       'bukan','bukankah','bukanlah','bukannya','bulan','bung','cara','caranya','cukup','cukupkah','cukuplah',\n",
        "                       'cuma','dahulu','dalam','dan','dapat','dari','daripada','datang','dekat','demi','demikian','demikianlah',\n",
        "                       'dengan','depan','di','dia','diakhiri','diakhirinya','dialah','diantara','diantaranya','diberi','diberikan',\n",
        "                       'diberikannya','dibuat','dibuatnya','didapat','didatangkan','digunakan','diibaratkan','diibaratkannya','diingat',\n",
        "                       'diingatkan','diinginkan','dijawab','dijelaskan','dijelaskannya','dikarenakan','dikatakan','dikatakannya',\n",
        "                       'dikerjakan','diketahui','diketahuinya','dikira','dilakukan','dilalui','dilihat','dimaksud','dimaksudkan',\n",
        "                       'dimaksudkannya','dimaksudnya','diminta','dimintai','dimisalkan','dimulai','dimulailah','dimulainya','dimungkinkan',\n",
        "                       'dini','dipastikan','diperbuat','diperbuatnya','dipergunakan','diperkirakan','diperlihatkan','diperlukan',\n",
        "                       'diperlukannya','dipersoalkan','dipertanyakan','dipunyai','diri','dirinya','disampaikan','disebut','disebutkan',\n",
        "                       'disebutkannya','disini','disinilah','ditambahkan','ditandaskan','ditanya','ditanyai','ditanyakan','ditegaskan',\n",
        "                       'ditujukan','ditunjuk','ditunjuki','ditunjukkan','ditunjukkannya','ditunjuknya','dituturkan','dituturkannya',\n",
        "                       'diucapkan','diucapkannya','diungkapkan','dong','dua','dulu','empat','enggak','enggaknya','entah','entahlah',\n",
        "                       'guna','gunakan','hal','hampir','hanya','hanyalah','hari','harus','haruslah','harusnya','hendak','hendaklah',\n",
        "                       'hendaknya','hingga','ia','ialah','ibarat','ibaratkan','ibaratnya','ibu','ikut','ingat','ingat-ingat','ingin',\n",
        "                       'inginkah','inginkan','ini','inikah','inilah','itu','itukah','itulah','jadi','jadilah','jadinya','jangan',\n",
        "                       'jangankan','janganlah','jauh','jawab','jawaban','jawabnya','jelas','jelaskan','jelaslah','jelasnya','jika',\n",
        "                       'jikalau','juga','jumlah','jumlahnya','justru','kala','kalau','kalaulah','kalaupun','kalian','kami','kamilah',\n",
        "                       'kamu','kamulah','kan','kapan','kapankah','kapanpun','karena','karenanya','kasus','kata','katakan','katakanlah',\n",
        "                       'katanya','ke','keadaan','kebetulan','kecil','kedua','keduanya','keinginan','kelamaan','kelihatan','kelihatannya',\n",
        "                       'kelima','keluar','kembali','kemudian','kemungkinan','kemungkinannya','kenapa','kepada','kepadanya','kesampaian',\n",
        "                       'keseluruhan','keseluruhannya','keterlaluan','ketika','khususnya','kini','kinilah','kira','kira-kira','kiranya',\n",
        "                       'kita','kitalah','kok','kurang','lagi','lagian','lah','lain','lainnya','lalu','lama','lamanya','lanjut',\n",
        "                       'lanjutnya','lebih','lewat','lima','luar','macam','maka','makanya','makin','malah','malahan','mampu','mampukah',\n",
        "                       'mana','manakala','manalagi','masa','masalah','masalahnya','masih','masihkah','masing','masing-masing','mau',\n",
        "                       'maupun','melainkan','melakukan','melalui','melihat','melihatnya','memang','memastikan','memberi','memberikan',\n",
        "                       'membuat','memerlukan','memihak','meminta','memintakan','memisalkan','memperbuat','mempergunakan','memperkirakan',\n",
        "                       'memperlihatkan','mempersiapkan','mempersoalkan','mempertanyakan','mempunyai','memulai','memungkinkan','menaiki',\n",
        "                       'menambahkan','menandaskan','menanti','menanti-nanti','menantikan','menanya','menanyai','menanyakan','mendapat',\n",
        "                       'mendapatkan','mendatang','mendatangi','mendatangkan','menegaskan','mengakhiri','mengapa','mengatakan',\n",
        "                       'mengatakannya','mengenai','mengerjakan','mengetahui','menggunakan','menghendaki','mengibaratkan','mengibaratkannya',\n",
        "                       'mengingat','mengingatkan','menginginkan','mengira','mengucapkan','mengucapkannya','mengungkapkan','menjadi',\n",
        "                       'menjawab','menjelaskan','menuju','menunjuk','menunjuki','menunjukkan','menunjuknya','menurut','menuturkan',\n",
        "                       'menyampaikan','menyangkut','menyatakan','menyebutkan','menyeluruh','menyiapkan','merasa','mereka','merekalah',\n",
        "                       'merupakan','meski','meskipun','meyakini','meyakinkan','minta','mirip','misal','misalkan','misalnya','mula',\n",
        "                       'mulai','mulailah','mulanya','mungkin','mungkinkah','nah','naik','namun','nanti','nantinya','nyaris','nyatanya',\n",
        "                       'oleh','olehnya','pada','padahal','padanya','pak','paling','panjang','pantas','para','pasti','pastilah','penting',\n",
        "                       'pentingnya','per','percuma','perlu','perlukah','perlunya','pernah','persoalan','pertama','pertama-tama','pertanyaan',\n",
        "                       'pertanyakan','pihak','pihaknya','pukul','pula','pun','punya','rasa','rasanya','rata','rupanya','saat','saatnya',\n",
        "                       'saja','sajalah','saling','sama','sama-sama','sambil','sampai','sampai-sampai','sampaikan','sana','sangat','sangatlah',\n",
        "                       'satu','saya','sayalah','se','sebab','sebabnya','sebagai','sebagaimana','sebagainya','sebagian','sebaik','sebaik-baiknya',\n",
        "                       'sebaiknya','sebaliknya','sebanyak','sebegini','sebegitu','sebelum','sebelumnya','sebenarnya','seberapa','sebesar',\n",
        "                       'sebetulnya','sebisanya','sebuah','sebut','sebutlah','sebutnya','secara','secukupnya','sedang','sedangkan','sedemikian',\n",
        "                       'sedikit','sedikitnya','seenaknya','segala','segalanya','segera','seharusnya','sehingga','seingat','sejak','sejauh',\n",
        "                       'sejenak','sejumlah','sekadar','sekadarnya','sekali','sekali-kali','sekalian','sekaligus','sekalipun','sekarang',\n",
        "                       'sekarang','sekecil','seketika','sekiranya','sekitar','sekitarnya','sekurang-kurangnya','sekurangnya','sela','selain',\n",
        "                       'selaku','selalu','selama','selama-lamanya','selamanya','selanjutnya','seluruh','seluruhnya','semacam','semakin','semampu',\n",
        "                       'semampunya','semasa','semasih','semata','semata-mata','semaunya','sementara','semisal','semisalnya','sempat','semua',\n",
        "                       'semuanya','semula','sendiri','sendirian','sendirinya','seolah','seolah-olah','seorang','sepanjang','sepantasnya',\n",
        "                       'sepantasnyalah','seperlunya','seperti','sepertinya','sepihak','sering','seringnya','serta','serupa','sesaat','sesama',\n",
        "                       'sesampai','sesegera','sesekali','seseorang','sesuatu','sesuatunya','sesudah','sesudahnya','setelah','setempat',\n",
        "                       'setengah','seterusnya','setiap','setiba','setibanya','setidak-tidaknya','setidaknya','setinggi','seusai','sewaktu',\n",
        "                       'siap','siapa','siapakah','siapapun','sini','sinilah','soal','soalnya','suatu','sudah','sudahkah','sudahlah',\n",
        "                       'supaya','tadi','tadinya','tahu','tahun','tak','tambah','tambahnya','tampak','tampaknya','tandas','tandasnya','tanpa',\n",
        "                       'tanya','tanyakan','tanyanya','tapi','tegas','tegasnya','telah','tempat','tengah','tentang','tentu','tentulah',\n",
        "                       'tentunya','tepat','terakhir','terasa','terbanyak','terdahulu','terdapat','terdiri','terhadap','terhadapnya',\n",
        "                       'teringat','teringat-ingat','terjadi','terjadilah','terjadinya','terkira','terlalu','terlebih','terlihat','termasuk',\n",
        "                       'ternyata','tersampaikan','tersebut','tersebutlah','tertentu','tertuju','terus','terutama','tetap','tetapi','tiap',\n",
        "                       'tiba','tiba-tiba','tidak','tidakkah','tidaklah','tiga','tinggi','toh','tunjuk','turut','tutur','tuturnya','ucap',\n",
        "                       'ucapnya','ujar','ujarnya','umum','umumnya','ungkap','ungkapnya','untuk','usah','usai','waduh','wah','wahai','waktu',\n",
        "                       'waktunya','walau','walaupun','wong','yaitu','yakin','yakni','yang'])\n",
        "\n",
        "list_stopwords = set(list_stopwords)\n",
        "\n",
        "def stopwords_removal(words):\n",
        "    return [word for word in words if word not in list_stopwords]\n",
        "\n",
        "data['content'] = data['content'].apply(stopwords_removal)\n",
        "\n",
        "\n",
        "print(data['content'])"
      ],
      "metadata": {
        "id": "J4dlqqD2CReD"
      },
      "execution_count": null,
      "outputs": []
    },
    {
      "cell_type": "code",
      "execution_count": null,
      "metadata": {
        "id": "A-U7lytWkbIk"
      },
      "outputs": [],
      "source": [
        "pip install Sastrawi"
      ]
    },
    {
      "cell_type": "code",
      "source": [
        "pip install swifter"
      ],
      "metadata": {
        "id": "el-QwcMd50Ym"
      },
      "execution_count": null,
      "outputs": []
    },
    {
      "cell_type": "code",
      "source": [
        "import swifter"
      ],
      "metadata": {
        "id": "v6mjT8Ga7g3V"
      },
      "execution_count": null,
      "outputs": []
    },
    {
      "cell_type": "code",
      "execution_count": null,
      "metadata": {
        "id": "xr7FnXcgkpo8"
      },
      "outputs": [],
      "source": [
        "import Sastrawi\n",
        "from Sastrawi.Stemmer.StemmerFactory import StemmerFactory"
      ]
    },
    {
      "cell_type": "code",
      "execution_count": null,
      "metadata": {
        "id": "yPA4mZJmkujk"
      },
      "outputs": [],
      "source": [
        "from Sastrawi.StopWordRemover.StopWordRemoverFactory import StopWordRemoverFactory\n",
        "stop_factory = StopWordRemoverFactory()\n",
        "sw = stop_factory.get_stop_words()\n",
        "stopword = stop_factory.create_stop_word_remover()"
      ]
    },
    {
      "cell_type": "code",
      "execution_count": null,
      "metadata": {
        "id": "Ol2d8oBBkud_"
      },
      "outputs": [],
      "source": [
        "# create stemmer\n",
        "factory = StemmerFactory()\n",
        "stemmer = factory.create_stemmer()\n",
        "\n",
        "# stemmed\n",
        "def stemmed_wrapper(term):\n",
        "    return stemmer.stem(term)\n",
        "\n",
        "term_dict = {}\n",
        "\n",
        "for document in data['content']:\n",
        "    for term in document:\n",
        "        if term not in term_dict:\n",
        "            term_dict[term] = ' '\n",
        "\n",
        "print(len(term_dict))\n",
        "print(\"------------------------\")\n",
        "\n",
        "for term in term_dict:\n",
        "    term_dict[term] = stemmed_wrapper(term)\n",
        "    print(term,\":\" ,term_dict[term])\n",
        "\n",
        "print(term_dict)\n",
        "print(\"------------------------\")\n",
        "\n",
        "\n",
        "# apply stemmed term to dataframe\n",
        "def get_stemmed_term(document):\n",
        "    return [term_dict[term] for term in document]\n",
        "\n",
        "data['content'] = data['content'].swifter.apply(get_stemmed_term)\n",
        "print(data['content'])"
      ]
    },
    {
      "cell_type": "code",
      "source": [
        "normalizad_word = pd.read_excel('/content/normalisasi.xlsx')"
      ],
      "metadata": {
        "id": "tOsMs08_3vhW"
      },
      "execution_count": null,
      "outputs": []
    },
    {
      "cell_type": "code",
      "source": [
        "normalizad_word_dict = {}\n",
        "\n",
        "for index, row in normalizad_word.iterrows():\n",
        "    if row[0] not in normalizad_word_dict:\n",
        "        normalizad_word_dict[row[0]] = row[1]\n",
        "\n",
        "def normalized_term(document):\n",
        "    return [normalizad_word_dict[term] if term in normalizad_word_dict else term for term in document]\n",
        "\n",
        "data['content'] = data['content'].apply(normalized_term)\n",
        "\n",
        "data['content'].head(10)"
      ],
      "metadata": {
        "id": "kYQo4tWL46Sn"
      },
      "execution_count": null,
      "outputs": []
    },
    {
      "cell_type": "code",
      "source": [
        "data.info()"
      ],
      "metadata": {
        "id": "k23gL0Q_GRHk"
      },
      "execution_count": null,
      "outputs": []
    },
    {
      "cell_type": "code",
      "source": [
        "data['at'] = pd.to_datetime(data['at'])"
      ],
      "metadata": {
        "id": "u8L9nyM4Gvqm"
      },
      "execution_count": null,
      "outputs": []
    },
    {
      "cell_type": "code",
      "source": [
        "data['Month_Year'] =  data['at'].dt.strftime('%Y-%m')\n",
        "data.head()"
      ],
      "metadata": {
        "id": "VfhrdJ5yHFFe"
      },
      "execution_count": null,
      "outputs": []
    },
    {
      "cell_type": "code",
      "source": [
        "data.groupby(['Month_Year', 'Label'] )['Label'].count().unstack(1)"
      ],
      "metadata": {
        "id": "8wV1Bb2qLk9E"
      },
      "execution_count": null,
      "outputs": []
    },
    {
      "cell_type": "code",
      "source": [
        "data.groupby(['Month_Year', 'Label'] )['Label'].count().unstack(1).plot.bar(figsize=(16, 6))\n",
        "plt.savefig('Barplot Kelas Review.png')"
      ],
      "metadata": {
        "id": "_7_n9-sFMOJ6"
      },
      "execution_count": null,
      "outputs": []
    },
    {
      "cell_type": "code",
      "execution_count": null,
      "metadata": {
        "id": "lpWYq4I5idSR"
      },
      "outputs": [],
      "source": [
        "#Wordcloud sentimen negatif\n",
        "Negatif = data.loc[data['Label'] == '0']\n",
        "Negatif.head()"
      ]
    },
    {
      "cell_type": "code",
      "execution_count": null,
      "metadata": {
        "id": "Izu6EWeNmU5i"
      },
      "outputs": [],
      "source": [
        "Negatif = Negatif.dropna()"
      ]
    },
    {
      "cell_type": "code",
      "execution_count": null,
      "metadata": {
        "id": "a7rBDx8xmvpz"
      },
      "outputs": [],
      "source": [
        "Negatif.head()"
      ]
    },
    {
      "cell_type": "code",
      "execution_count": null,
      "metadata": {
        "id": "uffo4Yhsnak6"
      },
      "outputs": [],
      "source": [
        "from wordcloud import WordCloud\n",
        "import matplotlib.pyplot as plt"
      ]
    },
    {
      "cell_type": "code",
      "source": [
        "fig, ax = plt.subplots(figsize = (4,4))\n",
        "textnet1 = \" \".join(str(review) for review in Negatif[\"content\"])"
      ],
      "metadata": {
        "id": "uKGs3sCu38AY"
      },
      "execution_count": null,
      "outputs": []
    },
    {
      "cell_type": "code",
      "execution_count": null,
      "metadata": {
        "id": "dQXRUxldjEix"
      },
      "outputs": [],
      "source": [
        "# Create a WordCloud object\n",
        "wordcloud = WordCloud(background_color=\"white\").generate(textnet1)\n",
        "# Display the generated word cloud\n",
        "plt.imshow(wordcloud, interpolation='bilinear')\n",
        "plt.axis(\"off\")\n",
        "plt.savefig('Wordcloud Bangbeli Kelas Negatif.png')\n",
        "plt.show()"
      ]
    },
    {
      "cell_type": "code",
      "source": [
        "WordCloud().process_text(textnet1)"
      ],
      "metadata": {
        "id": "d-BMIyCZhq84"
      },
      "execution_count": null,
      "outputs": []
    },
    {
      "cell_type": "code",
      "execution_count": null,
      "metadata": {
        "id": "I3jQyrf7lf5R"
      },
      "outputs": [],
      "source": [
        "#Wordcloud sentimen positif\n",
        "Positif = data.loc[data['Label'] == \"1\"]\n",
        "Positif = Positif.dropna()\n",
        "Positif.head()"
      ]
    },
    {
      "cell_type": "code",
      "source": [
        "fig, ax = plt.subplots(figsize = (4,4))\n",
        "textnet = \" \".join(str(review) for review in Positif[\"content\"])"
      ],
      "metadata": {
        "id": "M19mjvFP4rIc"
      },
      "execution_count": null,
      "outputs": []
    },
    {
      "cell_type": "code",
      "execution_count": null,
      "metadata": {
        "id": "BFHYsvZvne-t"
      },
      "outputs": [],
      "source": [
        "# Create a WordCloud object\n",
        "wordcloud = WordCloud(background_color=\"white\").generate(textnet)\n",
        "# Display the generated word cloud\n",
        "plt.imshow(wordcloud, interpolation='bilinear')\n",
        "plt.axis(\"off\")\n",
        "plt.savefig('Wordcloud Bangbeli Kelas Positif.png')\n",
        "plt.show()"
      ]
    },
    {
      "cell_type": "code",
      "source": [
        "WordCloud().process_text(textnet)"
      ],
      "metadata": {
        "id": "qVVpFHJ4y134"
      },
      "execution_count": null,
      "outputs": []
    },
    {
      "cell_type": "code",
      "source": [
        "#Wordcloud rating 1\n",
        "Satu = data.loc[data['score'] == 1]\n",
        "Satu = Satu.dropna()\n",
        "Satu.head()\n",
        "# Create a WordCloud object\n",
        "wordcloud = WordCloud(background_color=\"white\").generate(textnet1)\n",
        "# Display the generated word cloud\n",
        "plt.imshow(wordcloud, interpolation='bilinear')\n",
        "plt.axis(\"off\")\n",
        "plt.savefig('Wordcloud Bangbeli Rating 1.png')\n",
        "plt.show()"
      ],
      "metadata": {
        "id": "ionGYPqFD1L9"
      },
      "execution_count": null,
      "outputs": []
    },
    {
      "cell_type": "code",
      "source": [
        "#Wordcloud rating 2\n",
        "Dua = data.loc[data['score'] == 2]\n",
        "Dua = Dua.dropna()\n",
        "Dua.head()\n",
        "# Create a WordCloud object\n",
        "wordcloud = WordCloud(background_color=\"white\").generate(textnet1)\n",
        "# Display the generated word cloud\n",
        "plt.imshow(wordcloud, interpolation='bilinear')\n",
        "plt.axis(\"off\")\n",
        "plt.savefig('Wordcloud Bangbeli Rating 2.png')\n",
        "plt.show()"
      ],
      "metadata": {
        "id": "e6ALm3cDD_hb"
      },
      "execution_count": null,
      "outputs": []
    },
    {
      "cell_type": "code",
      "source": [
        "#Wordcloud rating 3\n",
        "Tiga = data.loc[data['score'] == 3]\n",
        "Tiga = Tiga.dropna()\n",
        "Tiga.head()\n",
        "# Create a WordCloud object\n",
        "wordcloud = WordCloud(background_color=\"white\").generate(textnet1)\n",
        "# Display the generated word cloud\n",
        "plt.imshow(wordcloud, interpolation='bilinear')\n",
        "plt.axis(\"off\")\n",
        "plt.savefig('Wordcloud Bangbeli Rating 3.png')\n",
        "plt.show()"
      ],
      "metadata": {
        "id": "umeNOrU-EGOv"
      },
      "execution_count": null,
      "outputs": []
    },
    {
      "cell_type": "code",
      "source": [
        "#Wordcloud rating 4\n",
        "Empat = data.loc[data['score'] == 4]\n",
        "Empat = Empat.dropna()\n",
        "Empat.head()\n",
        "# Create a WordCloud object\n",
        "wordcloud = WordCloud(background_color=\"white\").generate(textnet)\n",
        "# Display the generated word cloud\n",
        "plt.imshow(wordcloud, interpolation='bilinear')\n",
        "plt.axis(\"off\")\n",
        "plt.savefig('Wordcloud Bangbeli Rating 4.png')\n",
        "plt.show()"
      ],
      "metadata": {
        "id": "Fd_DwuHFELZH"
      },
      "execution_count": null,
      "outputs": []
    },
    {
      "cell_type": "code",
      "source": [
        "#Wordcloud rating 5\n",
        "Lima = data.loc[data['score'] == 5]\n",
        "Lima = Lima.dropna()\n",
        "Lima.head()\n",
        "# Create a WordCloud object\n",
        "wordcloud = WordCloud(background_color=\"white\").generate(textnet)\n",
        "# Display the generated word cloud\n",
        "plt.imshow(wordcloud, interpolation='bilinear')\n",
        "plt.axis(\"off\")\n",
        "plt.savefig('Wordcloud Bangbeli Rating 5.png')\n",
        "plt.show()"
      ],
      "metadata": {
        "id": "eZm-w-lXEZCg"
      },
      "execution_count": null,
      "outputs": []
    },
    {
      "cell_type": "code",
      "source": [
        "import os\n",
        "import matplotlib.pyplot as plt\n",
        "from wordcloud import WordCloud\n",
        "import re\n",
        "import string"
      ],
      "metadata": {
        "id": "lFHM7OeGEvMd"
      },
      "execution_count": null,
      "outputs": []
    },
    {
      "cell_type": "code",
      "source": [
        "frequency = {}\n",
        "document_text = open('C:/Users/ASUS/Anaconda3/Lib/site-packages/sora.txt')\n",
        "text_string = document_text.read().lower()\n",
        "match_pattern = re.findall(r'\\b[a-z]{3,15}\\b', text_string)\n",
        "\n",
        "for word in match_pattern:\n",
        "    count = frequency.get(word,0)\n",
        "    frequency[word] = count + 1\n",
        "\n",
        "frequency_list = frequency.keys()\n",
        "\n",
        "for words in frequency_list:\n",
        "    print (words, frequency[words])"
      ],
      "metadata": {
        "id": "-u2pxvvtEzzJ"
      },
      "execution_count": null,
      "outputs": []
    }
  ],
  "metadata": {
    "colab": {
      "provenance": [],
      "toc_visible": true
    },
    "kernelspec": {
      "display_name": "Python 3",
      "name": "python3"
    },
    "language_info": {
      "name": "python"
    }
  },
  "nbformat": 4,
  "nbformat_minor": 0
}